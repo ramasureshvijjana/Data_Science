{
 "cells": [
  {
   "cell_type": "markdown",
   "id": "bff9b9ad",
   "metadata": {},
   "source": [
    "# DataFrame"
   ]
  },
  {
   "cell_type": "code",
   "execution_count": null,
   "id": "cd5463c6",
   "metadata": {},
   "outputs": [],
   "source": [
    "1. Creating a DataFrame\n",
    "2. Creating DataFrame with column names\n",
    "3. Insert values to DataFrame\n",
    "4. Drop a row\n",
    "5. Update row values based on condithon\n",
    "6. Drop duplicates"
   ]
  },
  {
   "cell_type": "markdown",
   "id": "c45edce5",
   "metadata": {},
   "source": [
    "## 1. Creating a DataFrame"
   ]
  },
  {
   "cell_type": "code",
   "execution_count": 6,
   "id": "2d420de4",
   "metadata": {},
   "outputs": [
    {
     "name": "stdout",
     "output_type": "stream",
     "text": [
      "Empty DataFrame\n",
      "Columns: []\n",
      "Index: []\n"
     ]
    }
   ],
   "source": [
    "import pandas as pd\n",
    "\n",
    "# Create a data frame\n",
    "df = pd.DataFrame()\n",
    "\n",
    "print(df) # Now it has 0 rows and 0 columns"
   ]
  },
  {
   "cell_type": "markdown",
   "id": "27f49060",
   "metadata": {},
   "source": [
    "## 2. Creating DataFrame with column names"
   ]
  },
  {
   "cell_type": "code",
   "execution_count": 7,
   "id": "de0459fb",
   "metadata": {},
   "outputs": [
    {
     "name": "stdout",
     "output_type": "stream",
     "text": [
      "Empty DataFrame\n",
      "Columns: [Name, Age, salary]\n",
      "Index: []\n"
     ]
    }
   ],
   "source": [
    "df = pd.DataFrame(columns=['Name', 'Age', 'salary'])\n",
    "\n",
    "print(df) # Now we can observe the column names"
   ]
  },
  {
   "cell_type": "markdown",
   "id": "2d3e2c87",
   "metadata": {},
   "source": [
    "## 3. Insert values to DataFrame"
   ]
  },
  {
   "cell_type": "code",
   "execution_count": 8,
   "id": "dd5f124f",
   "metadata": {},
   "outputs": [
    {
     "name": "stdout",
     "output_type": "stream",
     "text": [
      "                  Name Age salary\n",
      "0  Rama Suresh Vijjana  24  21000\n"
     ]
    }
   ],
   "source": [
    "df.loc[len(df.index)] = (\"Rama Suresh Vijjana\", 24, 21000)\n",
    "\n",
    "print(df)"
   ]
  },
  {
   "cell_type": "code",
   "execution_count": 9,
   "id": "2e5687fd",
   "metadata": {},
   "outputs": [
    {
     "data": {
      "text/html": [
       "<div>\n",
       "<style scoped>\n",
       "    .dataframe tbody tr th:only-of-type {\n",
       "        vertical-align: middle;\n",
       "    }\n",
       "\n",
       "    .dataframe tbody tr th {\n",
       "        vertical-align: top;\n",
       "    }\n",
       "\n",
       "    .dataframe thead th {\n",
       "        text-align: right;\n",
       "    }\n",
       "</style>\n",
       "<table border=\"1\" class=\"dataframe\">\n",
       "  <thead>\n",
       "    <tr style=\"text-align: right;\">\n",
       "      <th></th>\n",
       "      <th>Name</th>\n",
       "      <th>Age</th>\n",
       "      <th>salary</th>\n",
       "    </tr>\n",
       "  </thead>\n",
       "  <tbody>\n",
       "    <tr>\n",
       "      <th>0</th>\n",
       "      <td>Rama Suresh Vijjana</td>\n",
       "      <td>24</td>\n",
       "      <td>21000</td>\n",
       "    </tr>\n",
       "    <tr>\n",
       "      <th>1</th>\n",
       "      <td>Eswar Bonam</td>\n",
       "      <td>24</td>\n",
       "      <td>21000</td>\n",
       "    </tr>\n",
       "  </tbody>\n",
       "</table>\n",
       "</div>"
      ],
      "text/plain": [
       "                  Name Age salary\n",
       "0  Rama Suresh Vijjana  24  21000\n",
       "1          Eswar Bonam  24  21000"
      ]
     },
     "metadata": {},
     "output_type": "display_data"
    }
   ],
   "source": [
    "df.loc[len(df.index)] = [\"Eswar Bonam\", 24, 21000]\n",
    "\n",
    "display(df)"
   ]
  },
  {
   "cell_type": "code",
   "execution_count": 10,
   "id": "91eabfd7",
   "metadata": {
    "scrolled": true
   },
   "outputs": [
    {
     "data": {
      "text/html": [
       "<div>\n",
       "<style scoped>\n",
       "    .dataframe tbody tr th:only-of-type {\n",
       "        vertical-align: middle;\n",
       "    }\n",
       "\n",
       "    .dataframe tbody tr th {\n",
       "        vertical-align: top;\n",
       "    }\n",
       "\n",
       "    .dataframe thead th {\n",
       "        text-align: right;\n",
       "    }\n",
       "</style>\n",
       "<table border=\"1\" class=\"dataframe\">\n",
       "  <thead>\n",
       "    <tr style=\"text-align: right;\">\n",
       "      <th></th>\n",
       "      <th>Name</th>\n",
       "      <th>Age</th>\n",
       "      <th>salary</th>\n",
       "    </tr>\n",
       "  </thead>\n",
       "  <tbody>\n",
       "    <tr>\n",
       "      <th>0</th>\n",
       "      <td>Rama Suresh Vijjana</td>\n",
       "      <td>24</td>\n",
       "      <td>21000</td>\n",
       "    </tr>\n",
       "    <tr>\n",
       "      <th>1</th>\n",
       "      <td>Eswar Bonam</td>\n",
       "      <td>24</td>\n",
       "      <td>21000</td>\n",
       "    </tr>\n",
       "    <tr>\n",
       "      <th>2</th>\n",
       "      <td>Anand</td>\n",
       "      <td>20</td>\n",
       "      <td>0</td>\n",
       "    </tr>\n",
       "    <tr>\n",
       "      <th>3</th>\n",
       "      <td>Mahesh</td>\n",
       "      <td>20</td>\n",
       "      <td>0</td>\n",
       "    </tr>\n",
       "  </tbody>\n",
       "</table>\n",
       "</div>"
      ],
      "text/plain": [
       "                  Name Age salary\n",
       "0  Rama Suresh Vijjana  24  21000\n",
       "1          Eswar Bonam  24  21000\n",
       "2                Anand  20      0\n",
       "3               Mahesh  20      0"
      ]
     },
     "metadata": {},
     "output_type": "display_data"
    }
   ],
   "source": [
    "df2 = pd.DataFrame([['Anand', 20, 0], ['Mahesh', 20, 0]], columns=['Name', 'Age', 'salary'])\n",
    "\n",
    "df = df.append(df2, ignore_index= True) # df.append() is not inplace\n",
    "display(df)"
   ]
  },
  {
   "cell_type": "markdown",
   "id": "73b5ea9d",
   "metadata": {},
   "source": [
    "## 4. Drop a row"
   ]
  },
  {
   "cell_type": "code",
   "execution_count": 11,
   "id": "7638b10b",
   "metadata": {},
   "outputs": [
    {
     "data": {
      "text/html": [
       "<div>\n",
       "<style scoped>\n",
       "    .dataframe tbody tr th:only-of-type {\n",
       "        vertical-align: middle;\n",
       "    }\n",
       "\n",
       "    .dataframe tbody tr th {\n",
       "        vertical-align: top;\n",
       "    }\n",
       "\n",
       "    .dataframe thead th {\n",
       "        text-align: right;\n",
       "    }\n",
       "</style>\n",
       "<table border=\"1\" class=\"dataframe\">\n",
       "  <thead>\n",
       "    <tr style=\"text-align: right;\">\n",
       "      <th></th>\n",
       "      <th>Name</th>\n",
       "      <th>Age</th>\n",
       "      <th>salary</th>\n",
       "    </tr>\n",
       "  </thead>\n",
       "  <tbody>\n",
       "    <tr>\n",
       "      <th>2</th>\n",
       "      <td>Anand</td>\n",
       "      <td>20</td>\n",
       "      <td>0</td>\n",
       "    </tr>\n",
       "    <tr>\n",
       "      <th>3</th>\n",
       "      <td>Mahesh</td>\n",
       "      <td>20</td>\n",
       "      <td>0</td>\n",
       "    </tr>\n",
       "  </tbody>\n",
       "</table>\n",
       "</div>"
      ],
      "text/plain": [
       "     Name Age salary\n",
       "2   Anand  20      0\n",
       "3  Mahesh  20      0"
      ]
     },
     "metadata": {},
     "output_type": "display_data"
    },
    {
     "data": {
      "text/html": [
       "<div>\n",
       "<style scoped>\n",
       "    .dataframe tbody tr th:only-of-type {\n",
       "        vertical-align: middle;\n",
       "    }\n",
       "\n",
       "    .dataframe tbody tr th {\n",
       "        vertical-align: top;\n",
       "    }\n",
       "\n",
       "    .dataframe thead th {\n",
       "        text-align: right;\n",
       "    }\n",
       "</style>\n",
       "<table border=\"1\" class=\"dataframe\">\n",
       "  <thead>\n",
       "    <tr style=\"text-align: right;\">\n",
       "      <th></th>\n",
       "      <th>Name</th>\n",
       "      <th>Age</th>\n",
       "      <th>salary</th>\n",
       "    </tr>\n",
       "  </thead>\n",
       "  <tbody>\n",
       "    <tr>\n",
       "      <th>1</th>\n",
       "      <td>Eswar Bonam</td>\n",
       "      <td>24</td>\n",
       "      <td>21000</td>\n",
       "    </tr>\n",
       "    <tr>\n",
       "      <th>2</th>\n",
       "      <td>Anand</td>\n",
       "      <td>20</td>\n",
       "      <td>0</td>\n",
       "    </tr>\n",
       "    <tr>\n",
       "      <th>3</th>\n",
       "      <td>Mahesh</td>\n",
       "      <td>20</td>\n",
       "      <td>0</td>\n",
       "    </tr>\n",
       "  </tbody>\n",
       "</table>\n",
       "</div>"
      ],
      "text/plain": [
       "          Name Age salary\n",
       "1  Eswar Bonam  24  21000\n",
       "2        Anand  20      0\n",
       "3       Mahesh  20      0"
      ]
     },
     "metadata": {},
     "output_type": "display_data"
    }
   ],
   "source": [
    "df3 = df.drop([0, 1]) # Not inplace\n",
    "display(df3)\n",
    "\n",
    "df4 = df.drop(0) # Not inplace\n",
    "display(df4)"
   ]
  },
  {
   "cell_type": "code",
   "execution_count": 12,
   "id": "67b16b6b",
   "metadata": {},
   "outputs": [
    {
     "data": {
      "text/html": [
       "<div>\n",
       "<style scoped>\n",
       "    .dataframe tbody tr th:only-of-type {\n",
       "        vertical-align: middle;\n",
       "    }\n",
       "\n",
       "    .dataframe tbody tr th {\n",
       "        vertical-align: top;\n",
       "    }\n",
       "\n",
       "    .dataframe thead th {\n",
       "        text-align: right;\n",
       "    }\n",
       "</style>\n",
       "<table border=\"1\" class=\"dataframe\">\n",
       "  <thead>\n",
       "    <tr style=\"text-align: right;\">\n",
       "      <th></th>\n",
       "      <th>Name</th>\n",
       "      <th>Age</th>\n",
       "      <th>salary</th>\n",
       "    </tr>\n",
       "  </thead>\n",
       "  <tbody>\n",
       "    <tr>\n",
       "      <th>0</th>\n",
       "      <td>Rama Suresh Vijjana</td>\n",
       "      <td>24</td>\n",
       "      <td>21000</td>\n",
       "    </tr>\n",
       "    <tr>\n",
       "      <th>1</th>\n",
       "      <td>Eswar Bonam</td>\n",
       "      <td>24</td>\n",
       "      <td>21000</td>\n",
       "    </tr>\n",
       "  </tbody>\n",
       "</table>\n",
       "</div>"
      ],
      "text/plain": [
       "                  Name Age salary\n",
       "0  Rama Suresh Vijjana  24  21000\n",
       "1          Eswar Bonam  24  21000"
      ]
     },
     "metadata": {},
     "output_type": "display_data"
    }
   ],
   "source": [
    "df4 = df[df['salary'] == 0].index\n",
    "\n",
    "df5 = df.drop(df4)\n",
    "display(df5)"
   ]
  },
  {
   "cell_type": "markdown",
   "id": "5b67f77b",
   "metadata": {},
   "source": [
    "## 5. Update row values based on condithon"
   ]
  },
  {
   "cell_type": "code",
   "execution_count": 13,
   "id": "b5504fe1",
   "metadata": {},
   "outputs": [
    {
     "name": "stdout",
     "output_type": "stream",
     "text": [
      "                  Name Age salary\n",
      "0  Rama Suresh Vijjana  25  21000\n",
      "1          Eswar Bonam  24  21000\n",
      "2                Anand  20      0\n",
      "3               Mahesh  20      0\n"
     ]
    }
   ],
   "source": [
    "df.loc[df.Name == 'Rama Suresh Vijjana', \"Age\"] = 25\n",
    "\n",
    "print(df)"
   ]
  },
  {
   "cell_type": "code",
   "execution_count": 14,
   "id": "b85d8563",
   "metadata": {},
   "outputs": [
    {
     "name": "stdout",
     "output_type": "stream",
     "text": [
      "          Name Age salary\n",
      "0        anand  20      0\n",
      "1  Eswar Bonam  24  21000\n",
      "2        Anand  20      0\n",
      "3       Mahesh  20      0\n"
     ]
    }
   ],
   "source": [
    "df.loc[df.Name == 'Rama Suresh Vijjana', ['Name',\"Age\",'salary']] = ['anand',20,0]\n",
    "\n",
    "print(df)"
   ]
  },
  {
   "cell_type": "markdown",
   "id": "56ecd771",
   "metadata": {},
   "source": [
    "## 6. Drop duplicates "
   ]
  },
  {
   "cell_type": "code",
   "execution_count": null,
   "id": "4f18e7e6",
   "metadata": {},
   "outputs": [],
   "source": [
    "1. df.drop_duplicates()  is case sensitive"
   ]
  },
  {
   "cell_type": "code",
   "execution_count": 15,
   "id": "8716518b",
   "metadata": {},
   "outputs": [
    {
     "name": "stdout",
     "output_type": "stream",
     "text": [
      "          Name Age salary\n",
      "0        anand  20      0\n",
      "1  Eswar Bonam  24  21000\n",
      "2        Anand  20      0\n",
      "3       Mahesh  20      0\n",
      "4        Anand  20      0\n"
     ]
    }
   ],
   "source": [
    "df.loc[len(df.index)] = ('Anand', 20, 0)\n",
    "\n",
    "print(df)"
   ]
  },
  {
   "cell_type": "code",
   "execution_count": 16,
   "id": "a356b732",
   "metadata": {},
   "outputs": [
    {
     "data": {
      "text/html": [
       "<div>\n",
       "<style scoped>\n",
       "    .dataframe tbody tr th:only-of-type {\n",
       "        vertical-align: middle;\n",
       "    }\n",
       "\n",
       "    .dataframe tbody tr th {\n",
       "        vertical-align: top;\n",
       "    }\n",
       "\n",
       "    .dataframe thead th {\n",
       "        text-align: right;\n",
       "    }\n",
       "</style>\n",
       "<table border=\"1\" class=\"dataframe\">\n",
       "  <thead>\n",
       "    <tr style=\"text-align: right;\">\n",
       "      <th></th>\n",
       "      <th>Name</th>\n",
       "      <th>Age</th>\n",
       "      <th>salary</th>\n",
       "    </tr>\n",
       "  </thead>\n",
       "  <tbody>\n",
       "    <tr>\n",
       "      <th>0</th>\n",
       "      <td>anand</td>\n",
       "      <td>20</td>\n",
       "      <td>0</td>\n",
       "    </tr>\n",
       "    <tr>\n",
       "      <th>1</th>\n",
       "      <td>Eswar Bonam</td>\n",
       "      <td>24</td>\n",
       "      <td>21000</td>\n",
       "    </tr>\n",
       "    <tr>\n",
       "      <th>2</th>\n",
       "      <td>Anand</td>\n",
       "      <td>20</td>\n",
       "      <td>0</td>\n",
       "    </tr>\n",
       "    <tr>\n",
       "      <th>3</th>\n",
       "      <td>Mahesh</td>\n",
       "      <td>20</td>\n",
       "      <td>0</td>\n",
       "    </tr>\n",
       "  </tbody>\n",
       "</table>\n",
       "</div>"
      ],
      "text/plain": [
       "          Name Age salary\n",
       "0        anand  20      0\n",
       "1  Eswar Bonam  24  21000\n",
       "2        Anand  20      0\n",
       "3       Mahesh  20      0"
      ]
     },
     "metadata": {},
     "output_type": "display_data"
    }
   ],
   "source": [
    "# Deleting dupolicate rows\n",
    "# it not delete the 0 index row even if it is duplicate\n",
    "df = df.drop_duplicates() #NOT INPLACE\n",
    "display(df)"
   ]
  },
  {
   "cell_type": "markdown",
   "id": "be143194",
   "metadata": {},
   "source": [
    "### Rough"
   ]
  },
  {
   "cell_type": "code",
   "execution_count": 28,
   "id": "b8db2ba7",
   "metadata": {},
   "outputs": [],
   "source": [
    "df.loc[df.Name == None, 'salary'] = 22000"
   ]
  },
  {
   "cell_type": "code",
   "execution_count": 30,
   "id": "e350bfd2",
   "metadata": {},
   "outputs": [
    {
     "data": {
      "text/plain": [
       "Name      Mahesh\n",
       "Age           20\n",
       "salary         0\n",
       "Name: 3, dtype: object"
      ]
     },
     "execution_count": 30,
     "metadata": {},
     "output_type": "execute_result"
    }
   ],
   "source": [
    "df.loc[3]"
   ]
  },
  {
   "cell_type": "code",
   "execution_count": 34,
   "id": "0e03db1d",
   "metadata": {},
   "outputs": [
    {
     "name": "stderr",
     "output_type": "stream",
     "text": [
      "C:\\Users\\RAMU\\anaconda3\\lib\\site-packages\\pandas\\core\\generic.py:5494: SettingWithCopyWarning: \n",
      "A value is trying to be set on a copy of a slice from a DataFrame.\n",
      "Try using .loc[row_indexer,col_indexer] = value instead\n",
      "\n",
      "See the caveats in the documentation: https://pandas.pydata.org/pandas-docs/stable/user_guide/indexing.html#returning-a-view-versus-a-copy\n",
      "  self[name] = value\n"
     ]
    }
   ],
   "source": [
    "df[df.Name == 'Anand'].salary = 500"
   ]
  },
  {
   "cell_type": "code",
   "execution_count": 35,
   "id": "8e612fbb",
   "metadata": {},
   "outputs": [
    {
     "name": "stdout",
     "output_type": "stream",
     "text": [
      "          Name Age salary\n",
      "0        anand  20      0\n",
      "1  Eswar Bonam  24  21000\n",
      "2        Anand  20  22000\n",
      "3       Mahesh  20      0\n"
     ]
    }
   ],
   "source": [
    "print(df)"
   ]
  },
  {
   "cell_type": "code",
   "execution_count": null,
   "id": "5b60affb",
   "metadata": {},
   "outputs": [],
   "source": []
  }
 ],
 "metadata": {
  "kernelspec": {
   "display_name": "Python 3",
   "language": "python",
   "name": "python3"
  },
  "language_info": {
   "codemirror_mode": {
    "name": "ipython",
    "version": 3
   },
   "file_extension": ".py",
   "mimetype": "text/x-python",
   "name": "python",
   "nbconvert_exporter": "python",
   "pygments_lexer": "ipython3",
   "version": "3.8.3"
  }
 },
 "nbformat": 4,
 "nbformat_minor": 5
}
