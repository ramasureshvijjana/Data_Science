{
 "cells": [
  {
   "cell_type": "markdown",
   "id": "1409d99b",
   "metadata": {},
   "source": [
    "# Setting Values"
   ]
  },
  {
   "cell_type": "code",
   "execution_count": null,
   "id": "a2659332",
   "metadata": {},
   "outputs": [],
   "source": [
    "=> This Topic will help you replace or set some values in a particular position inside DataFrame:\n",
    "    1. Direct update values in a column using assignment operator (=).\n",
    "    2. Using df.at[] \n",
    "    3. Using df.iat[]\n",
    "    4. Using df.loc[]\n",
    "    5. Using df.iloc[]\n",
    "    "
   ]
  },
  {
   "cell_type": "markdown",
   "id": "d0ea0d42",
   "metadata": {},
   "source": [
    "## Data Loading"
   ]
  },
  {
   "cell_type": "code",
   "execution_count": 26,
   "id": "ff2c686f",
   "metadata": {},
   "outputs": [],
   "source": [
    "import pandas as pd\n",
    "\n",
    "data = pd.read_csv('E:/DS/DataScience/data/nyc_flights.csv')"
   ]
  },
  {
   "cell_type": "markdown",
   "id": "83dd1bf0",
   "metadata": {},
   "source": [
    "### Taking a small chunk of data."
   ]
  },
  {
   "cell_type": "code",
   "execution_count": 27,
   "id": "a8d79336",
   "metadata": {},
   "outputs": [
    {
     "name": "stdout",
     "output_type": "stream",
     "text": [
      "    month  day\n",
      "0       6   30\n",
      "1       5    7\n",
      "2      12    8\n",
      "3       5   14\n",
      "4       7   21\n",
      "5       1    1\n",
      "6      12    9\n",
      "7       8   13\n",
      "8       9   26\n",
      "9       4   30\n",
      "10      6   17\n"
     ]
    }
   ],
   "source": [
    "# Taking 10 labels of month and day features.\n",
    "\n",
    "lmt_data = data.loc[0:10, ['month', 'day']]\n",
    "print(lmt_data)"
   ]
  },
  {
   "cell_type": "code",
   "execution_count": 28,
   "id": "e46fb25d",
   "metadata": {},
   "outputs": [
    {
     "name": "stdout",
     "output_type": "stream",
     "text": [
      "[2016, 2011, 2010, 2017, 2008, 2006, 2002, 2009, 2016, 2017, 2014]\n",
      "[15, 7, 24, 12, 31, 16, 26, 16, 4, 21, 12]\n"
     ]
    }
   ],
   "source": [
    "# Generating day and year data \n",
    "import random\n",
    "\n",
    "year, day = [], []\n",
    "\n",
    "for i in range(0,11):\n",
    "    year.append(random.randint(2000, 2020))\n",
    "    day.append(random.randint(1, 31))\n",
    "    \n",
    "print(year)\n",
    "print(day)"
   ]
  },
  {
   "cell_type": "markdown",
   "id": "4bc431e0",
   "metadata": {},
   "source": [
    "### 1. Direct update values in a column using assignment operator (=)."
   ]
  },
  {
   "cell_type": "code",
   "execution_count": null,
   "id": "2f152c3f",
   "metadata": {},
   "outputs": [],
   "source": [
    "SYNTAX :    \n",
    "    df['column_name'] = [list of elements]\n",
    "    \n",
    "1. When ever we try to update values of a entair column by using = it will foloow below steps:\n",
    "    \n",
    "    Step-1: First it checks the column_name exist or not\n",
    "    Step-2: If the column_name exist, it will replace all values of that column.\n",
    "            If the NOT column_name exists, it will create the column and assign the given values.\n",
    "2. Only one column we can set up at a time."
   ]
  },
  {
   "cell_type": "code",
   "execution_count": 29,
   "id": "31692216",
   "metadata": {},
   "outputs": [
    {
     "name": "stdout",
     "output_type": "stream",
     "text": [
      "    month  day  year\n",
      "0       6   30  2016\n",
      "1       5    7  2011\n",
      "2      12    8  2010\n",
      "3       5   14  2017\n",
      "4       7   21  2008\n",
      "5       1    1  2006\n",
      "6      12    9  2002\n",
      "7       8   13  2009\n",
      "8       9   26  2016\n",
      "9       4   30  2017\n",
      "10      6   17  2014\n"
     ]
    }
   ],
   "source": [
    "# Here year not exist in lmt_data, so it will create year column and assign the given values.\n",
    "\n",
    "lmt_data['year'] = year\n",
    "print(lmt_data)"
   ]
  },
  {
   "cell_type": "code",
   "execution_count": 30,
   "id": "f4e7453c",
   "metadata": {},
   "outputs": [
    {
     "name": "stdout",
     "output_type": "stream",
     "text": [
      "    month  day  year\n",
      "0       6   15  2016\n",
      "1       5    7  2011\n",
      "2      12   24  2010\n",
      "3       5   12  2017\n",
      "4       7   31  2008\n",
      "5       1   16  2006\n",
      "6      12   26  2002\n",
      "7       8   16  2009\n",
      "8       9    4  2016\n",
      "9       4   21  2017\n",
      "10      6   12  2014\n"
     ]
    }
   ],
   "source": [
    "# Here day is existed in lmt_data, so it will replace all values.\n",
    "\n",
    "lmt_data['day'] = day\n",
    "print(lmt_data)"
   ]
  },
  {
   "cell_type": "markdown",
   "id": "bbc53e34",
   "metadata": {},
   "source": [
    "### 2. Using df.at[] \n"
   ]
  },
  {
   "cell_type": "code",
   "execution_count": null,
   "id": "c40923b3",
   "metadata": {},
   "outputs": [],
   "source": [
    "SYNTAX:\n",
    "    \n",
    "    df.at[position, feature] = value\n",
    "    \n",
    "1. Set a value at a particulat index by using this way."
   ]
  },
  {
   "cell_type": "code",
   "execution_count": 31,
   "id": "8f307e1e",
   "metadata": {},
   "outputs": [
    {
     "name": "stdout",
     "output_type": "stream",
     "text": [
      "    month  day  year\n",
      "0       6   15  2016\n",
      "1       5    7  2011\n",
      "2      12   24  2010\n",
      "3       5   12  2017\n",
      "4       7   31  2008\n",
      "5       1    6     6\n",
      "6      12   26  2002\n",
      "7       8   16  2009\n",
      "8       9    4  2016\n",
      "9       4   21  2017\n",
      "10      6   12  2014\n"
     ]
    }
   ],
   "source": [
    "lmt_data.at[5, ['year', 'day']] = 6\n",
    "print(lmt_data)"
   ]
  },
  {
   "cell_type": "code",
   "execution_count": 32,
   "id": "fc06bf35",
   "metadata": {},
   "outputs": [
    {
     "name": "stdout",
     "output_type": "stream",
     "text": [
      "    month  day  year\n",
      "0       6   15  2016\n",
      "1       5    7  2011\n",
      "2      12   24  2010\n",
      "3       5   12  2017\n",
      "4       7   31  2008\n",
      "5       1    6     6\n",
      "6      12    6     6\n",
      "7       8    6     6\n",
      "8       9    6     6\n",
      "9       4   21  2017\n",
      "10      6   12  2014\n"
     ]
    }
   ],
   "source": [
    "lmt_data.at[5:8, ['year', 'day']] = 6\n",
    "print(lmt_data)"
   ]
  },
  {
   "cell_type": "code",
   "execution_count": 33,
   "id": "3e8004fc",
   "metadata": {},
   "outputs": [
    {
     "name": "stdout",
     "output_type": "stream",
     "text": [
      "1\n"
     ]
    }
   ],
   "source": [
    "# Checking changed position.\n",
    "print(lmt_data.at[5, 'month'])\n",
    "\n",
    "#print(lmt_data.at[5:8, ['year', 'day']]) ------> Not Working It will give an error"
   ]
  },
  {
   "cell_type": "markdown",
   "id": "915b43e4",
   "metadata": {},
   "source": [
    "### 3. Using df.iat[]"
   ]
  },
  {
   "cell_type": "code",
   "execution_count": null,
   "id": "a2e80bf1",
   "metadata": {},
   "outputs": [],
   "source": [
    "SYNTAX:\n",
    "    df.iat[row_num, column_num]\n",
    "    \n",
    "=> It will help to change element at a paricular row and column \n"
   ]
  },
  {
   "cell_type": "code",
   "execution_count": 34,
   "id": "cd245caa",
   "metadata": {},
   "outputs": [
    {
     "name": "stdout",
     "output_type": "stream",
     "text": [
      "    month  day  year\n",
      "0       6   15  2016\n",
      "1       5    7  2011\n",
      "2      12   24  2010\n",
      "3       5   12  2017\n",
      "4       7   31  2008\n",
      "5       1    6     6\n",
      "6      12    6     6\n",
      "7       8    6     6\n",
      "8       9    6     6\n",
      "9       4   21  2017\n",
      "10      6    0  2014\n"
     ]
    }
   ],
   "source": [
    "lmt_data.iat[10, 1] = 0\n",
    "print(lmt_data)"
   ]
  },
  {
   "cell_type": "code",
   "execution_count": 14,
   "id": "0954d04a",
   "metadata": {},
   "outputs": [
    {
     "name": "stdout",
     "output_type": "stream",
     "text": [
      "0\n"
     ]
    }
   ],
   "source": [
    "# Checking changed position.\n",
    "print(lmt_data.iat[10, 1])"
   ]
  },
  {
   "cell_type": "markdown",
   "id": "84c1f189",
   "metadata": {},
   "source": [
    "### 3. Using df.loc[]"
   ]
  },
  {
   "cell_type": "code",
   "execution_count": null,
   "id": "7f5ab1d9",
   "metadata": {},
   "outputs": [],
   "source": [
    "SYNTAX:\n",
    "    df.loc[row_start : row_end, [clm_1, clm_2, ...]]\n",
    "    \n",
    "=> We can change values in multiple columns in a set of rows."
   ]
  },
  {
   "cell_type": "code",
   "execution_count": 35,
   "id": "b72fb79a",
   "metadata": {},
   "outputs": [
    {
     "name": "stdout",
     "output_type": "stream",
     "text": [
      "    month  day  year\n",
      "0       6   15  2016\n",
      "1       5    7  2011\n",
      "2       0   24     0\n",
      "3       0   12     0\n",
      "4       0   31     0\n",
      "5       0    6     0\n",
      "6       0    6     0\n",
      "7       8    6     6\n",
      "8       9    6     6\n",
      "9       4   21  2017\n",
      "10      6    0  2014\n"
     ]
    }
   ],
   "source": [
    "lmt_data.loc[2:6, ['month', 'year']] = 0\n",
    "print(lmt_data)"
   ]
  },
  {
   "cell_type": "code",
   "execution_count": 36,
   "id": "e4eeead7",
   "metadata": {},
   "outputs": [
    {
     "name": "stdout",
     "output_type": "stream",
     "text": [
      "   month  year\n",
      "2      0     0\n",
      "3      0     0\n",
      "4      0     0\n",
      "5      0     0\n",
      "6      0     0\n"
     ]
    }
   ],
   "source": [
    "# Checking changed position.\n",
    "print(lmt_data.loc[2:6, ['month', 'year']] )"
   ]
  },
  {
   "cell_type": "markdown",
   "id": "0d2f8ad4",
   "metadata": {},
   "source": [
    "### 5. Using df.iloc[]"
   ]
  },
  {
   "cell_type": "code",
   "execution_count": 51,
   "id": "9f19c1ce",
   "metadata": {},
   "outputs": [
    {
     "name": "stdout",
     "output_type": "stream",
     "text": [
      "    month  day  year\n",
      "0       6   15  2016\n",
      "1       5    7  2011\n",
      "2       0   25    25\n",
      "3       0   25    25\n",
      "4       0   25    25\n",
      "5       0   25    25\n",
      "6       0    6     0\n",
      "7       8    6     6\n",
      "8       9    6     6\n",
      "9       4   21  2017\n",
      "10      6    0  2014\n"
     ]
    }
   ],
   "source": [
    "lmt_data.iloc[2:6, 1:] = 25\n",
    "print(lmt_data)"
   ]
  },
  {
   "cell_type": "code",
   "execution_count": 52,
   "id": "feaacdce",
   "metadata": {},
   "outputs": [
    {
     "name": "stdout",
     "output_type": "stream",
     "text": [
      "   day  year\n",
      "2   25    25\n",
      "3   25    25\n",
      "4   25    25\n",
      "5   25    25\n"
     ]
    }
   ],
   "source": [
    "print(lmt_data.iloc[2:6, 1:])"
   ]
  },
  {
   "cell_type": "markdown",
   "id": "318e4f97",
   "metadata": {},
   "source": [
    "#### 5.1 Setting multiple values"
   ]
  },
  {
   "cell_type": "code",
   "execution_count": 55,
   "id": "03f8cf33",
   "metadata": {},
   "outputs": [
    {
     "data": {
      "text/html": [
       "<div>\n",
       "<style scoped>\n",
       "    .dataframe tbody tr th:only-of-type {\n",
       "        vertical-align: middle;\n",
       "    }\n",
       "\n",
       "    .dataframe tbody tr th {\n",
       "        vertical-align: top;\n",
       "    }\n",
       "\n",
       "    .dataframe thead th {\n",
       "        text-align: right;\n",
       "    }\n",
       "</style>\n",
       "<table border=\"1\" class=\"dataframe\">\n",
       "  <thead>\n",
       "    <tr style=\"text-align: right;\">\n",
       "      <th></th>\n",
       "      <th>0</th>\n",
       "      <th>1</th>\n",
       "    </tr>\n",
       "  </thead>\n",
       "  <tbody>\n",
       "    <tr>\n",
       "      <th>0</th>\n",
       "      <td>1</td>\n",
       "      <td>2016</td>\n",
       "    </tr>\n",
       "    <tr>\n",
       "      <th>1</th>\n",
       "      <td>2</td>\n",
       "      <td>2011</td>\n",
       "    </tr>\n",
       "    <tr>\n",
       "      <th>2</th>\n",
       "      <td>3</td>\n",
       "      <td>2016</td>\n",
       "    </tr>\n",
       "    <tr>\n",
       "      <th>3</th>\n",
       "      <td>4</td>\n",
       "      <td>2011</td>\n",
       "    </tr>\n",
       "  </tbody>\n",
       "</table>\n",
       "</div>"
      ],
      "text/plain": [
       "   0     1\n",
       "0  1  2016\n",
       "1  2  2011\n",
       "2  3  2016\n",
       "3  4  2011"
      ]
     },
     "execution_count": 55,
     "metadata": {},
     "output_type": "execute_result"
    }
   ],
   "source": [
    "# Genarate a 4 by 2 matrix.\n",
    "four_two_matrix = pd.DataFrame([[1,2,3,4],[2016, 2011, 2016, 2011]]).T\n",
    "four_two_matrix"
   ]
  },
  {
   "cell_type": "code",
   "execution_count": 56,
   "id": "06776ac9",
   "metadata": {},
   "outputs": [
    {
     "name": "stdout",
     "output_type": "stream",
     "text": [
      "    month  day  year\n",
      "0       6   15  2016\n",
      "1       5    7  2011\n",
      "2       0    1  2016\n",
      "3       0    2  2011\n",
      "4       0    3  2016\n",
      "5       0    4  2011\n",
      "6       0    6     0\n",
      "7       8    6     6\n",
      "8       9    6     6\n",
      "9       4   21  2017\n",
      "10      6    0  2014\n"
     ]
    }
   ],
   "source": [
    "lmt_data.iloc[2:6, 1:] = four_two_matrix # Here left side selected size and the right side passed values size must be the same.\n",
    "print(lmt_data)"
   ]
  },
  {
   "cell_type": "code",
   "execution_count": null,
   "id": "d15ce771",
   "metadata": {},
   "outputs": [],
   "source": []
  }
 ],
 "metadata": {
  "kernelspec": {
   "display_name": "Python 3",
   "language": "python",
   "name": "python3"
  },
  "language_info": {
   "codemirror_mode": {
    "name": "ipython",
    "version": 3
   },
   "file_extension": ".py",
   "mimetype": "text/x-python",
   "name": "python",
   "nbconvert_exporter": "python",
   "pygments_lexer": "ipython3",
   "version": "3.8.3"
  }
 },
 "nbformat": 4,
 "nbformat_minor": 5
}
