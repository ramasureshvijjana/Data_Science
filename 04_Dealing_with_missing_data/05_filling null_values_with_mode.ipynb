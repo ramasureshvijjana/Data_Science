{
 "cells": [
  {
   "cell_type": "markdown",
   "id": "ded6bf49",
   "metadata": {},
   "source": [
    "# Filling Null Values with Mode\n",
    "> 1. Categorical Data: Filling null values with the mode is perfect way when dataset contains categorical variables (e.g., colors, categories, labels). This helps maintain the integrity of the categorical distribution.  \n",
    "> 2. Nominal Data: For nominal variables where there's no inherent order, using the mode is often the most suitable approach. It ensures that the imputed values align with the most common category in the dataset.  \n",
    "> 3. Sparse Data: In datasets where certain categories are significantly more prevalent than others, filling null values with the mode can be advantageous. It helps maintain the relative frequencies of different categories and prevents imbalances in the data.  \n"
   ]
  },
  {
   "cell_type": "code",
   "execution_count": 1,
   "id": "28c563c7",
   "metadata": {},
   "outputs": [],
   "source": [
    "# Importing required libreries\n",
    "import pandas as pd\n",
    "import missingno as mgn"
   ]
  },
  {
   "cell_type": "code",
   "execution_count": 2,
   "id": "7ce5ba0d",
   "metadata": {},
   "outputs": [
    {
     "data": {
      "text/html": [
       "<div>\n",
       "<style scoped>\n",
       "    .dataframe tbody tr th:only-of-type {\n",
       "        vertical-align: middle;\n",
       "    }\n",
       "\n",
       "    .dataframe tbody tr th {\n",
       "        vertical-align: top;\n",
       "    }\n",
       "\n",
       "    .dataframe thead th {\n",
       "        text-align: right;\n",
       "    }\n",
       "</style>\n",
       "<table border=\"1\" class=\"dataframe\">\n",
       "  <thead>\n",
       "    <tr style=\"text-align: right;\">\n",
       "      <th></th>\n",
       "      <th>Rank</th>\n",
       "      <th>City</th>\n",
       "      <th>Country</th>\n",
       "      <th>2023</th>\n",
       "      <th>Jan</th>\n",
       "      <th>Feb</th>\n",
       "      <th>Mar</th>\n",
       "      <th>Apr</th>\n",
       "      <th>May</th>\n",
       "      <th>Jun</th>\n",
       "      <th>Jul</th>\n",
       "      <th>Aug</th>\n",
       "      <th>Sep</th>\n",
       "      <th>Oct</th>\n",
       "      <th>Nov</th>\n",
       "      <th>Dec</th>\n",
       "    </tr>\n",
       "  </thead>\n",
       "  <tbody>\n",
       "    <tr>\n",
       "      <th>0</th>\n",
       "      <td>1</td>\n",
       "      <td>Begusarai</td>\n",
       "      <td>India</td>\n",
       "      <td>118.9</td>\n",
       "      <td>31.2</td>\n",
       "      <td>235.3</td>\n",
       "      <td>156.8</td>\n",
       "      <td>113</td>\n",
       "      <td>109.3</td>\n",
       "      <td>99</td>\n",
       "      <td>63.8</td>\n",
       "      <td>61.8</td>\n",
       "      <td>71.5</td>\n",
       "      <td>61.8</td>\n",
       "      <td>210.5</td>\n",
       "      <td>285</td>\n",
       "    </tr>\n",
       "    <tr>\n",
       "      <th>1</th>\n",
       "      <td>2</td>\n",
       "      <td>Guwahati</td>\n",
       "      <td>India</td>\n",
       "      <td>NaN</td>\n",
       "      <td>220.2</td>\n",
       "      <td>168.1</td>\n",
       "      <td>129.2</td>\n",
       "      <td>112.2</td>\n",
       "      <td>69.5</td>\n",
       "      <td>51.3</td>\n",
       "      <td>46.6</td>\n",
       "      <td>60.2</td>\n",
       "      <td>76.7</td>\n",
       "      <td>76.4</td>\n",
       "      <td>126.9</td>\n",
       "      <td>128</td>\n",
       "    </tr>\n",
       "    <tr>\n",
       "      <th>2</th>\n",
       "      <td>3</td>\n",
       "      <td>Delhi</td>\n",
       "      <td>India</td>\n",
       "      <td>102.1</td>\n",
       "      <td>171.8</td>\n",
       "      <td>114.3</td>\n",
       "      <td>77.4</td>\n",
       "      <td>71</td>\n",
       "      <td>67.4</td>\n",
       "      <td>42.9</td>\n",
       "      <td>35.3</td>\n",
       "      <td>34.8</td>\n",
       "      <td>39.7</td>\n",
       "      <td>106.3</td>\n",
       "      <td>255.1</td>\n",
       "      <td>210</td>\n",
       "    </tr>\n",
       "    <tr>\n",
       "      <th>3</th>\n",
       "      <td>4</td>\n",
       "      <td>Mullanpur</td>\n",
       "      <td>India</td>\n",
       "      <td>100.4</td>\n",
       "      <td>106.3</td>\n",
       "      <td>123.7</td>\n",
       "      <td>78.1</td>\n",
       "      <td>56.6</td>\n",
       "      <td>53.4</td>\n",
       "      <td>53.9</td>\n",
       "      <td>63.2</td>\n",
       "      <td>59.7</td>\n",
       "      <td>59.6</td>\n",
       "      <td>110.4</td>\n",
       "      <td>253</td>\n",
       "      <td>201.4</td>\n",
       "    </tr>\n",
       "    <tr>\n",
       "      <th>4</th>\n",
       "      <td>5</td>\n",
       "      <td>Lahore</td>\n",
       "      <td>Pakistan</td>\n",
       "      <td>99.5</td>\n",
       "      <td>143.2</td>\n",
       "      <td>117.3</td>\n",
       "      <td>73.8</td>\n",
       "      <td>52.9</td>\n",
       "      <td>52.4</td>\n",
       "      <td>46.4</td>\n",
       "      <td>39.8</td>\n",
       "      <td>42.2</td>\n",
       "      <td>53.8</td>\n",
       "      <td>125.9</td>\n",
       "      <td>251</td>\n",
       "      <td>197.5</td>\n",
       "    </tr>\n",
       "  </tbody>\n",
       "</table>\n",
       "</div>"
      ],
      "text/plain": [
       "   Rank       City   Country   2023    Jan    Feb    Mar    Apr    May   Jun  \\\n",
       "0     1  Begusarai     India  118.9   31.2  235.3  156.8    113  109.3    99   \n",
       "1     2   Guwahati     India    NaN  220.2  168.1  129.2  112.2   69.5  51.3   \n",
       "2     3      Delhi     India  102.1  171.8  114.3   77.4     71   67.4  42.9   \n",
       "3     4  Mullanpur     India  100.4  106.3  123.7   78.1   56.6   53.4  53.9   \n",
       "4     5     Lahore  Pakistan   99.5  143.2  117.3   73.8   52.9   52.4  46.4   \n",
       "\n",
       "    Jul   Aug   Sep    Oct    Nov    Dec  \n",
       "0  63.8  61.8  71.5   61.8  210.5    285  \n",
       "1  46.6  60.2  76.7   76.4  126.9    128  \n",
       "2  35.3  34.8  39.7  106.3  255.1    210  \n",
       "3  63.2  59.7  59.6  110.4    253  201.4  \n",
       "4  39.8  42.2  53.8  125.9    251  197.5  "
      ]
     },
     "execution_count": 2,
     "metadata": {},
     "output_type": "execute_result"
    }
   ],
   "source": [
    "#loading data.\n",
    "data = pd.read_csv(\"../00_data/Asias_2023_Air_Report_2000_Cities.csv\")\n",
    "data.head()"
   ]
  },
  {
   "cell_type": "code",
   "execution_count": 3,
   "id": "155643e6",
   "metadata": {},
   "outputs": [
    {
     "name": "stdout",
     "output_type": "stream",
     "text": [
      "Rank        0\n",
      "City        0\n",
      "Country     0\n",
      "2023       22\n",
      "Jan         0\n",
      "Feb         0\n",
      "Mar         0\n",
      "Apr         0\n",
      "May         0\n",
      "Jun         0\n",
      "Jul         0\n",
      "Aug         0\n",
      "Sep         0\n",
      "Oct         0\n",
      "Nov         0\n",
      "Dec         0\n",
      "dtype: int64\n"
     ]
    },
    {
     "data": {
      "text/plain": [
       "<AxesSubplot:>"
      ]
     },
     "execution_count": 3,
     "metadata": {},
     "output_type": "execute_result"
    },
    {
     "data": {
      "image/png": "[encoded data removed]",
      "text/plain": [
       "<Figure size 1800x720 with 2 Axes>"
      ]
     },
     "metadata": {
      "needs_background": "light"
     },
     "output_type": "display_data"
    }
   ],
   "source": [
    "# Observe null values.\n",
    "print(data.isna().sum())\n",
    "mgn.matrix(data)"
   ]
  },
  {
   "cell_type": "code",
   "execution_count": 4,
   "id": "d7a5e099",
   "metadata": {},
   "outputs": [
    {
     "name": "stdout",
     "output_type": "stream",
     "text": [
      "The mean value of '2023' colum : 8.9\n"
     ]
    }
   ],
   "source": [
    "# Filling null values.\n",
    "## Calculating mode value of '2023' column\n",
    "mode_value = data['2023'].mode()[0]\n",
    "print(f\"The mean value of '2023' colum : {mode_value}\")\n",
    "\n",
    "## Filling null values with mode.\n",
    "data['2023'].fillna(mode_value, inplace=True)"
   ]
  },
  {
   "cell_type": "code",
   "execution_count": 5,
   "id": "2760fe54",
   "metadata": {},
   "outputs": [
    {
     "name": "stdout",
     "output_type": "stream",
     "text": [
      "Rank       0\n",
      "City       0\n",
      "Country    0\n",
      "2023       0\n",
      "Jan        0\n",
      "Feb        0\n",
      "Mar        0\n",
      "Apr        0\n",
      "May        0\n",
      "Jun        0\n",
      "Jul        0\n",
      "Aug        0\n",
      "Sep        0\n",
      "Oct        0\n",
      "Nov        0\n",
      "Dec        0\n",
      "dtype: int64\n"
     ]
    },
    {
     "data": {
      "text/plain": [
       "<AxesSubplot:>"
      ]
     },
     "execution_count": 5,
     "metadata": {},
     "output_type": "execute_result"
    },
    {
     "data": {
      "image/png": "[encoded data removed]",
      "text/plain": [
       "<Figure size 1800x720 with 2 Axes>"
      ]
     },
     "metadata": {
      "needs_background": "light"
     },
     "output_type": "display_data"
    }
   ],
   "source": [
    "# Observe null values after filled with mode.\n",
    "print(data.isna().sum())\n",
    "mgn.matrix(data)"
   ]
  },
  {
   "cell_type": "code",
   "execution_count": null,
   "id": "e1e35f02",
   "metadata": {},
   "outputs": [],
   "source": []
  }
 ],
 "metadata": {
  "kernelspec": {
   "display_name": "Python 3",
   "language": "python",
   "name": "python3"
  },
  "language_info": {
   "codemirror_mode": {
    "name": "ipython",
    "version": 3
   },
   "file_extension": ".py",
   "mimetype": "text/x-python",
   "name": "python",
   "nbconvert_exporter": "python",
   "pygments_lexer": "ipython3",
   "version": "3.8.3"
  }
 },
 "nbformat": 4,
 "nbformat_minor": 5
}
