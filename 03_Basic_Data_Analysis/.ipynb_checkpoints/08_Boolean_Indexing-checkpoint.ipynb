{
 "cells": [
  {
   "cell_type": "markdown",
   "id": "1060b7ad",
   "metadata": {},
   "source": [
    "# Boolean indexing"
   ]
  },
  {
   "cell_type": "markdown",
   "id": "2febc6b7",
   "metadata": {},
   "source": [
    "## Loading csv data"
   ]
  },
  {
   "cell_type": "code",
   "execution_count": 17,
   "id": "aa1ec9ab",
   "metadata": {},
   "outputs": [
    {
     "name": "stdout",
     "output_type": "stream",
     "text": [
      "Index(['year', 'month', 'day', 'dep_time', 'dep_delay', 'arr_time',\n",
      "       'arr_delay', 'carrier', 'tailnum', 'flight', 'origin', 'dest',\n",
      "       'air_time', 'distance', 'hour', 'minute'],\n",
      "      dtype='object')\n",
      "523760\n"
     ]
    }
   ],
   "source": [
    "import pandas as pd\n",
    "\n",
    "data = pd.read_csv('E:/DS/DataScience/data/nyc_flights.csv')\n",
    "print(data.columns)\n",
    "print(data.size)"
   ]
  },
  {
   "cell_type": "markdown",
   "id": "30c403cc",
   "metadata": {},
   "source": [
    "## 1. Select data with condition on one feature"
   ]
  },
  {
   "cell_type": "code",
   "execution_count": null,
   "id": "851901df",
   "metadata": {},
   "outputs": [],
   "source": [
    "=> We can apply many conditions like below:\n",
    "    \n",
    "    data['month'] > 6\n",
    "    data['month'] >= 6\n",
    "    data['month'] < 6\n",
    "    data['month'] <= 6\n",
    "    data['month'] == 6\n",
    "    data['month'] != 6"
   ]
  },
  {
   "cell_type": "code",
   "execution_count": 19,
   "id": "c35a9d99",
   "metadata": {},
   "outputs": [
    {
     "name": "stdout",
     "output_type": "stream",
     "text": [
      "266176\n"
     ]
    }
   ],
   "source": [
    "# below code will give data which having data['month'] is > 6\n",
    "\n",
    "last_six_mnth_data = data[data['month'] > 6]\n",
    "# Noe print the size of data which having month > 6\n",
    "print(last_six_mnth_data.size)"
   ]
  },
  {
   "cell_type": "code",
   "execution_count": 20,
   "id": "7b5b9f55",
   "metadata": {},
   "outputs": [
    {
     "name": "stdout",
     "output_type": "stream",
     "text": [
      "257584\n"
     ]
    }
   ],
   "source": [
    "# below code will give data which having data['month'] is > 6\n",
    "\n",
    "first_six_mnth_data = data[data['month'] <= 6]\n",
    "# Noe print the size of data which having month > 6\n",
    "print(first_six_mnth_data.size)"
   ]
  },
  {
   "cell_type": "code",
   "execution_count": 26,
   "id": "5729bfb3",
   "metadata": {},
   "outputs": [
    {
     "ename": "SyntaxError",
     "evalue": "invalid syntax (<ipython-input-26-5f32734de134>, line 1)",
     "output_type": "error",
     "traceback": [
      "\u001b[1;36m  File \u001b[1;32m\"<ipython-input-26-5f32734de134>\"\u001b[1;36m, line \u001b[1;32m1\u001b[0m\n\u001b[1;33m    data[data['month'] <> 6]\u001b[0m\n\u001b[1;37m                        ^\u001b[0m\n\u001b[1;31mSyntaxError\u001b[0m\u001b[1;31m:\u001b[0m invalid syntax\n"
     ]
    }
   ],
   "source": [
    "# Don't use this not comparison.\n",
    "data[data['month'] <> 6]"
   ]
  },
  {
   "cell_type": "code",
   "execution_count": 67,
   "id": "1c7b2b49",
   "metadata": {},
   "outputs": [
    {
     "name": "stdout",
     "output_type": "stream",
     "text": [
      "     year  month  day  dep_time  dep_delay  arr_time  arr_delay carrier  \\\n",
      "35   2013      4   12       840         20      1240         28      B6   \n",
      "57   2013      4   15       625         -5       752        -13      AA   \n",
      "78   2013      4    8      1325         -5      1608          2      B6   \n",
      "89   2013      4    6       923         -6      1019        -25      EV   \n",
      "105  2013      4   12      1336         -4      1653         13      AA   \n",
      "\n",
      "    tailnum  flight origin dest  air_time  distance  hour  minute  \n",
      "35   N655JB     403    JFK  SJU       186      1598     8      40  \n",
      "57   N589AA     303    LGA  ORD       118       733     6      25  \n",
      "78   N354JB     127    EWR  MCO       130       937    13      25  \n",
      "89   N12563    4636    EWR  DCA        41       199     9      23  \n",
      "105  N3DBAA     753    LGA  DFW       210      1389    13      36  \n"
     ]
    }
   ],
   "source": [
    "x = data.loc[(data['month'] == 4) & (data['day'] < 20)]\n",
    "print(x.head())"
   ]
  },
  {
   "cell_type": "markdown",
   "id": "57526523",
   "metadata": {},
   "source": [
    "### Task : \n",
    "#### 1. write code for check wich lables are more, before 6 months or after 6 months.\n",
    "####            2. Sum the before 6 months or after 6 months records and equating with total number of lables."
   ]
  },
  {
   "cell_type": "code",
   "execution_count": 21,
   "id": "c42dc901",
   "metadata": {},
   "outputs": [
    {
     "name": "stdout",
     "output_type": "stream",
     "text": [
      "In the last 6 months, more people traveled.\n"
     ]
    }
   ],
   "source": [
    "# Task -1\n",
    "\n",
    "if (first_six_mnth_data.size > last_six_mnth_data.size):\n",
    "    print('In the first 6 months, more people traveled.')\n",
    "else:\n",
    "    print('In the last 6 months, more people traveled.')"
   ]
  },
  {
   "cell_type": "code",
   "execution_count": 23,
   "id": "f56447b3",
   "metadata": {},
   "outputs": [
    {
     "name": "stdout",
     "output_type": "stream",
     "text": [
      "True\n"
     ]
    }
   ],
   "source": [
    "# Task -2\n",
    "\n",
    "x = (first_six_mnth_data.size + last_six_mnth_data.size) == data.size\n",
    "print(x)"
   ]
  },
  {
   "cell_type": "markdown",
   "id": "bd4c7ce5",
   "metadata": {},
   "source": [
    "## 2. Select data with isin() function"
   ]
  },
  {
   "cell_type": "code",
   "execution_count": null,
   "id": "cf74055e",
   "metadata": {},
   "outputs": [],
   "source": [
    "1. isin() function will return the data which is having the values what we are passing to isin()."
   ]
  },
  {
   "cell_type": "code",
   "execution_count": 57,
   "id": "b11fa436",
   "metadata": {},
   "outputs": [
    {
     "name": "stdout",
     "output_type": "stream",
     "text": [
      "       year  month  day  dep_time  dep_delay  arr_time  arr_delay carrier  \\\n",
      "1      2013      5    7      1657         -3      2104         10      DL   \n",
      "3      2013      5   14      1841         -4      2122        -34      DL   \n",
      "13     2013      3   25      2054        115      2256         91      FL   \n",
      "36     2013      5   13      1825         -4      2000        -35      DL   \n",
      "40     2013      3   13      1229         89      1342         87      MQ   \n",
      "...     ...    ...  ...       ...        ...       ...        ...     ...   \n",
      "32691  2013      5   17      1941        -14      2134         -5      EV   \n",
      "32693  2013      5   28       553         -7       750         -5      EV   \n",
      "32717  2013      3   28      1411         16      1521          1      WN   \n",
      "32724  2013      3   11       604          2       718         -8      EV   \n",
      "32734  2013      3   28      1813         -3      1942        -23      UA   \n",
      "\n",
      "      tailnum  flight origin dest  air_time  distance  hour  minute  \n",
      "1      N3760C     329    JFK  SJU       216      1598    16      57  \n",
      "3      N914DL    2391    JFK  TPA       135      1005    18      41  \n",
      "13     N919AT     645    LGA  ATL       104       762    20      54  \n",
      "36     N919DE    2131    LGA  DTW        77       502    18      25  \n",
      "40     N511MQ    3792    JFK  DCA        53       213    12      29  \n",
      "...       ...     ...    ...  ...       ...       ...   ...     ...  \n",
      "32691  N14998    4088    LGA  CLE        68       419    19      41  \n",
      "32693  N608QX    5592    LGA  MEM       133       963     5      53  \n",
      "32717  N245WN    2444    LGA  MDW       104       725    14      11  \n",
      "32724  N13955    4608    EWR  MKE       114       725     6       4  \n",
      "32734  N36272    1053    EWR  CLE        59       404    18      13  \n",
      "\n",
      "[5690 rows x 16 columns]\n"
     ]
    }
   ],
   "source": [
    "# Data of ticket bookings in 3, 5 moths.\n",
    "\n",
    "print(data[data['month'].isin([3,5])])"
   ]
  },
  {
   "cell_type": "code",
   "execution_count": 66,
   "id": "c9443c72",
   "metadata": {},
   "outputs": [
    {
     "name": "stdout",
     "output_type": "stream",
     "text": [
      "       year  month  day  dep_time  dep_delay  arr_time  arr_delay carrier  \\\n",
      "35     2013      4   12       840         20      1240         28      B6   \n",
      "57     2013      4   15       625         -5       752        -13      AA   \n",
      "78     2013      4    8      1325         -5      1608          2      B6   \n",
      "89     2013      4    6       923         -6      1019        -25      EV   \n",
      "105    2013      4   12      1336         -4      1653         13      AA   \n",
      "...     ...    ...  ...       ...        ...       ...        ...     ...   \n",
      "32674  2013      4    3      1004          9      1301         -9      AA   \n",
      "32689  2013      4    9      1758         -2      2051        -49      AA   \n",
      "32708  2013      4    6      1359         -1      1528         -7      WN   \n",
      "32709  2013      4   19      2312        217       220        214      UA   \n",
      "32720  2013      4   17      1023         -7      1341        -24      VX   \n",
      "\n",
      "      tailnum  flight origin dest  air_time  distance  hour  minute  \n",
      "35     N655JB     403    JFK  SJU       186      1598     8      40  \n",
      "57     N589AA     303    LGA  ORD       118       733     6      25  \n",
      "78     N354JB     127    EWR  MCO       130       937    13      25  \n",
      "89     N12563    4636    EWR  DCA        41       199     9      23  \n",
      "105    N3DBAA     753    LGA  DFW       210      1389    13      36  \n",
      "...       ...     ...    ...  ...       ...       ...   ...     ...  \n",
      "32674  N3GEAA    1871    LGA  MIA       150      1096    10       4  \n",
      "32689  N324AA     177    JFK  SFO       335      2586    17      58  \n",
      "32708  N249WN    3748    LGA  BNA       112       764    13      59  \n",
      "32709  N529UA     768    EWR  LAX       335      2454    23      12  \n",
      "32720  N842VA     187    EWR  SFO       351      2565    10      23  \n",
      "\n",
      "[1776 rows x 16 columns]\n"
     ]
    }
   ],
   "source": []
  },
  {
   "cell_type": "markdown",
   "id": "ba6b07df",
   "metadata": {},
   "source": [
    "### Task: Combination of isin() and normal condition (Topic 1, 2)"
   ]
  },
  {
   "cell_type": "code",
   "execution_count": null,
   "id": "423db0e6",
   "metadata": {},
   "outputs": [],
   "source": [
    "Note: We can apply conditions on multiple columns as below."
   ]
  },
  {
   "cell_type": "code",
   "execution_count": 70,
   "id": "1cdaa9da",
   "metadata": {},
   "outputs": [
    {
     "name": "stdout",
     "output_type": "stream",
     "text": [
      "       year  month  day  dep_time  dep_delay  arr_time  arr_delay carrier  \\\n",
      "62     2013      6   20      2020         13      2257         -2      B6   \n",
      "82     2013      5    6      1016         -4      1158        -18      9E   \n",
      "94     2013      6   20      1729         23      1903         15      EV   \n",
      "306    2013      5   13      1028         -9      1138        -15      EV   \n",
      "358    2013      5   29      1052         -8      1225        -20      MQ   \n",
      "...     ...    ...  ...       ...        ...       ...        ...     ...   \n",
      "32405  2013      6    1      1049          3      1320         -7      B6   \n",
      "32451  2013      6    2      1059         -6      1355        -23      DL   \n",
      "32513  2013      5    3      1012         -3      1217         12      US   \n",
      "32583  2013      5   20      1026         26      1122         10      US   \n",
      "32586  2013      6   20      2035          5      2235        -10      9E   \n",
      "\n",
      "      tailnum  flight origin dest  air_time  distance  hour  minute  \n",
      "62     N598JB    1505    JFK  ABQ       232      1826    20      20  \n",
      "82     N916XJ    3341    EWR  DTW        80       488    10      16  \n",
      "94     N27962    5977    EWR  RDU        68       416    17      29  \n",
      "306    N10575    3826    EWR  BUF        48       282    10      28  \n",
      "358    N717MQ    4471    LGA  RDU        64       431    10      52  \n",
      "...       ...     ...    ...  ...       ...       ...   ...     ...  \n",
      "32405  N569JB      41    JFK  MCO       124       944    10      49  \n",
      "32451  N963DL     930    LGA  FLL       141      1076    10      59  \n",
      "32513  N114UW    1435    EWR  CLT        82       529    10      12  \n",
      "32583  N945UW    2122    LGA  BOS        37       184    10      26  \n",
      "32586  N8659B    4033    LGA  TYS        94       647    20      35  \n",
      "\n",
      "[462 rows x 16 columns]\n"
     ]
    }
   ],
   "source": [
    "x = data.loc[(data['month'].isin([5,6])) & ((data['day'] == 20) | (data['hour'] == 10))]\n",
    "print(x)"
   ]
  }
 ],
 "metadata": {
  "kernelspec": {
   "display_name": "Python 3",
   "language": "python",
   "name": "python3"
  },
  "language_info": {
   "codemirror_mode": {
    "name": "ipython",
    "version": 3
   },
   "file_extension": ".py",
   "mimetype": "text/x-python",
   "name": "python",
   "nbconvert_exporter": "python",
   "pygments_lexer": "ipython3",
   "version": "3.8.3"
  }
 },
 "nbformat": 4,
 "nbformat_minor": 5
}
