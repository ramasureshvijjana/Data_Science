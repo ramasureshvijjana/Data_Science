{
 "cells": [
  {
   "cell_type": "markdown",
   "id": "02122e6f",
   "metadata": {},
   "source": [
    "# DataFrame.mean() Function"
   ]
  },
  {
   "cell_type": "code",
   "execution_count": null,
   "id": "e5c98589",
   "metadata": {},
   "outputs": [],
   "source": [
    "SYNTAX:\n",
    "    \n",
    "    DataFrame.mean(axis=None, skipna=None, level=None, numeric_only=None, **kwargs)\n",
    "\n",
    "1. axis:\n",
    "    axis -----> 0 or 1\n",
    "    if axis = 0 ----> calculate mean to every feature\n",
    "    if axis = 1 ----> calculate mean to every row\n",
    "    By default axis = 0\n",
    "    \n",
    "2. skipna:\n",
    "    => skip the NA/null values when computing the result if skip = True.\n",
    "    => By default skipna = True\n",
    "\n",
    "We can use in 2 ways:\n",
    "    1. Each feature mean\n",
    "    2. Each and every row mean"
   ]
  },
  {
   "cell_type": "markdown",
   "id": "e1d10a2a",
   "metadata": {},
   "source": [
    "## Data Loading"
   ]
  },
  {
   "cell_type": "code",
   "execution_count": 2,
   "id": "ce2bc101",
   "metadata": {},
   "outputs": [
    {
     "name": "stdout",
     "output_type": "stream",
     "text": [
      "   year  month  day  dep_time  dep_delay  arr_time  arr_delay carrier tailnum  \\\n",
      "0  2013      6   30       940         15      1216         -4      VX  N626VA   \n",
      "1  2013      5    7      1657         -3      2104         10      DL  N3760C   \n",
      "2  2013     12    8       859         -1      1238         11      DL  N712TW   \n",
      "3  2013      5   14      1841         -4      2122        -34      DL  N914DL   \n",
      "4  2013      7   21      1102         -3      1230         -8      9E  N823AY   \n",
      "\n",
      "   flight origin dest  air_time  distance  hour  minute  \n",
      "0     407    JFK  LAX       313      2475     9      40  \n",
      "1     329    JFK  SJU       216      1598    16      57  \n",
      "2     422    JFK  LAX       376      2475     8      59  \n",
      "3    2391    JFK  TPA       135      1005    18      41  \n",
      "4    3652    LGA  ORF        50       296    11       2  \n"
     ]
    }
   ],
   "source": [
    "import pandas as pd\n",
    "\n",
    "data = pd.read_csv('E:/DS/DataScience/data/nyc_flights.csv')\n",
    "print(data.head())"
   ]
  },
  {
   "cell_type": "code",
   "execution_count": 3,
   "id": "35340c95",
   "metadata": {},
   "outputs": [
    {
     "name": "stdout",
     "output_type": "stream",
     "text": [
      "   distance  hour  minute\n",
      "0      2475     9      40\n",
      "1      1598    16      57\n",
      "2      2475     8      59\n",
      "3      1005    18      41\n",
      "4       296    11       2\n",
      "5       733    18      17\n",
      "6      1411    12      59\n",
      "7       228    19      20\n",
      "8      1096     7      25\n",
      "9       820    13      23\n"
     ]
    }
   ],
   "source": [
    "req_data = data.loc[:, ['distance', 'hour', 'minute']]\n",
    "print(req_data.head(10))"
   ]
  },
  {
   "cell_type": "markdown",
   "id": "4bfa0b07",
   "metadata": {},
   "source": [
    "### 1. Mean of all features"
   ]
  },
  {
   "cell_type": "code",
   "execution_count": null,
   "id": "4d6bdcbd",
   "metadata": {},
   "outputs": [],
   "source": [
    "SYNTAX:\n",
    "    df.mean() or df.mean(axis = 0) or df.mean(0)"
   ]
  },
  {
   "cell_type": "code",
   "execution_count": 13,
   "id": "1c4ee022",
   "metadata": {},
   "outputs": [
    {
     "name": "stdout",
     "output_type": "stream",
     "text": [
      "distance    1046.244051\n",
      "hour          13.174462\n",
      "minute        31.819704\n",
      "dtype: float64\n"
     ]
    }
   ],
   "source": [
    "print(req_data.mean())"
   ]
  },
  {
   "cell_type": "markdown",
   "id": "5e2b12a6",
   "metadata": {},
   "source": [
    "### 2. Each and every row mean"
   ]
  },
  {
   "cell_type": "code",
   "execution_count": null,
   "id": "a5d924ad",
   "metadata": {},
   "outputs": [],
   "source": [
    "SYNTAX:\n",
    "    df.mean(1) or df.mean(axis = 1)"
   ]
  },
  {
   "cell_type": "code",
   "execution_count": 9,
   "id": "1168a5ed",
   "metadata": {},
   "outputs": [
    {
     "name": "stdout",
     "output_type": "stream",
     "text": [
      "0        841.333333\n",
      "1        557.000000\n",
      "2        847.333333\n",
      "3        354.666667\n",
      "4        103.000000\n",
      "            ...    \n",
      "32730    133.000000\n",
      "32731    756.000000\n",
      "32732    489.000000\n",
      "32733    229.333333\n",
      "32734    145.000000\n",
      "Length: 32735, dtype: float64\n",
      "\n",
      " The first row mean:  841.3333333333334\n"
     ]
    }
   ],
   "source": [
    "print(req_data.mean(1))\n",
    "\n",
    "print('\\n The first row mean: ',(2475 + 9 + 40)/3)"
   ]
  }
 ],
 "metadata": {
  "kernelspec": {
   "display_name": "Python 3",
   "language": "python",
   "name": "python3"
  },
  "language_info": {
   "codemirror_mode": {
    "name": "ipython",
    "version": 3
   },
   "file_extension": ".py",
   "mimetype": "text/x-python",
   "name": "python",
   "nbconvert_exporter": "python",
   "pygments_lexer": "ipython3",
   "version": "3.8.3"
  }
 },
 "nbformat": 4,
 "nbformat_minor": 5
}
