{
 "cells": [
  {
   "cell_type": "code",
   "execution_count": 11,
   "id": "813edbde",
   "metadata": {},
   "outputs": [
    {
     "name": "stdout",
     "output_type": "stream",
     "text": [
      "   distance  hour  minute\n",
      "0      2475     9      40\n",
      "1      1598    16      57\n",
      "2      2475     8      59\n",
      "3      1005    18      41\n",
      "4       296    11       2\n",
      "5       733    18      17\n",
      "6      1411    12      59\n",
      "7       228    19      20\n",
      "8      1096     7      25\n",
      "9       820    13      23\n"
     ]
    }
   ],
   "source": [
    "import pandas as pd\n",
    "\n",
    "data = pd.read_csv('E:/DS/DataScience/data/nyc_flights.csv')\n",
    "\n",
    "req_data = data.loc[0:9, ['distance', 'hour', 'minute']]\n",
    "print(req_data)"
   ]
  },
  {
   "cell_type": "code",
   "execution_count": 12,
   "id": "1762fbaa",
   "metadata": {},
   "outputs": [
    {
     "name": "stdout",
     "output_type": "stream",
     "text": [
      "[1213.7, 13.1, 34.3]\n",
      "   distance  hour  minute\n",
      "0    1261.3  -4.1     5.7\n",
      "1     384.3   2.9    22.7\n",
      "2    1261.3  -5.1    24.7\n",
      "3    -208.7   4.9     6.7\n",
      "4    -917.7  -2.1   -32.3\n",
      "5    -480.7   4.9   -17.3\n",
      "6     197.3  -1.1    24.7\n",
      "7    -985.7   5.9   -14.3\n",
      "8    -117.7  -6.1    -9.3\n",
      "9    -393.7  -0.1   -11.3\n"
     ]
    }
   ],
   "source": [
    "means = list(req_data.mean())\n",
    "print(means)\n",
    "\n",
    "row_sub_mean = req_data.sub(means, axis = 1)\n",
    "print(row_sub_mean)"
   ]
  },
  {
   "cell_type": "code",
   "execution_count": 17,
   "id": "0572ea9f",
   "metadata": {},
   "outputs": [
    {
     "name": "stdout",
     "output_type": "stream",
     "text": [
      "    distance  hour  minute\n",
      "20       335    11      26\n",
      "21      1035    16      26\n",
      "22      1023     7      29\n",
      "23      1626    23      10\n",
      "24       544     6      26\n",
      "25       479    12      51\n",
      "26       541    11      54\n",
      "27       282    22      53\n",
      "28      2248    18      39\n",
      "29       502     8      21    distance  hour  minute\n",
      "0      2475     9      40\n",
      "1      1598    16      57\n",
      "2      2475     8      59\n",
      "3      1005    18      41\n",
      "4       296    11       2\n",
      "5       733    18      17\n",
      "6      1411    12      59\n",
      "7       228    19      20\n",
      "8      1096     7      25\n",
      "9       820    13      23\n",
      "    distance  hour  minute\n",
      "0        NaN   NaN     NaN\n",
      "1        NaN   NaN     NaN\n",
      "2        NaN   NaN     NaN\n",
      "3        NaN   NaN     NaN\n",
      "4        NaN   NaN     NaN\n",
      "5        NaN   NaN     NaN\n",
      "6        NaN   NaN     NaN\n",
      "7        NaN   NaN     NaN\n",
      "8        NaN   NaN     NaN\n",
      "9        NaN   NaN     NaN\n",
      "20       NaN   NaN     NaN\n",
      "21       NaN   NaN     NaN\n",
      "22       NaN   NaN     NaN\n",
      "23       NaN   NaN     NaN\n",
      "24       NaN   NaN     NaN\n",
      "25       NaN   NaN     NaN\n",
      "26       NaN   NaN     NaN\n",
      "27       NaN   NaN     NaN\n",
      "28       NaN   NaN     NaN\n",
      "29       NaN   NaN     NaN\n"
     ]
    }
   ],
   "source": [
    "sub_data = data.loc[20:29, ['distance', 'hour', 'minute']]\n",
    "print(sub_data, req_data)\n",
    "\n",
    "row_sub_mean = req_data.sub(sub_data)\n",
    "print(row_sub_mean)"
   ]
  },
  {
   "cell_type": "code",
   "execution_count": null,
   "id": "58a80d83",
   "metadata": {},
   "outputs": [],
   "source": []
  }
 ],
 "metadata": {
  "kernelspec": {
   "display_name": "Python 3",
   "language": "python",
   "name": "python3"
  },
  "language_info": {
   "codemirror_mode": {
    "name": "ipython",
    "version": 3
   },
   "file_extension": ".py",
   "mimetype": "text/x-python",
   "name": "python",
   "nbconvert_exporter": "python",
   "pygments_lexer": "ipython3",
   "version": "3.8.3"
  }
 },
 "nbformat": 4,
 "nbformat_minor": 5
}
