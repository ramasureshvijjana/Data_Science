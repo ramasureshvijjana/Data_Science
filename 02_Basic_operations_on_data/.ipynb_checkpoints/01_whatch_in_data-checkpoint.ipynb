{
 "cells": [
  {
   "cell_type": "markdown",
   "metadata": {},
   "source": [
    "## Observe the data using pandas function"
   ]
  },
  {
   "cell_type": "markdown",
   "metadata": {},
   "source": [
    "### Loading csv data"
   ]
  },
  {
   "cell_type": "code",
   "execution_count": 2,
   "metadata": {},
   "outputs": [],
   "source": [
    "import pandas as pd\n",
    "\n",
    "data = pd.read_csv('D:/Data_Science/data/nyc_flights.csv')"
   ]
  },
  {
   "cell_type": "markdown",
   "metadata": {},
   "source": [
    "### head() function"
   ]
  },
  {
   "cell_type": "code",
   "execution_count": null,
   "metadata": {},
   "outputs": [],
   "source": [
    "1. head give you first five rows of data\n",
    "2. By defualt it take five rows\n",
    "3. If we want to see specific number of rows, we should pass that number as arguments"
   ]
  },
  {
   "cell_type": "code",
   "execution_count": 4,
   "metadata": {},
   "outputs": [
    {
     "name": "stdout",
     "output_type": "stream",
     "text": [
      "   year  month  day  dep_time  dep_delay  arr_time  arr_delay carrier tailnum  \\\n",
      "0  2013      6   30       940         15      1216         -4      VX  N626VA   \n",
      "1  2013      5    7      1657         -3      2104         10      DL  N3760C   \n",
      "2  2013     12    8       859         -1      1238         11      DL  N712TW   \n",
      "3  2013      5   14      1841         -4      2122        -34      DL  N914DL   \n",
      "4  2013      7   21      1102         -3      1230         -8      9E  N823AY   \n",
      "\n",
      "   flight origin dest  air_time  distance  hour  minute  \n",
      "0     407    JFK  LAX       313      2475     9      40  \n",
      "1     329    JFK  SJU       216      1598    16      57  \n",
      "2     422    JFK  LAX       376      2475     8      59  \n",
      "3    2391    JFK  TPA       135      1005    18      41  \n",
      "4    3652    LGA  ORF        50       296    11       2  \n"
     ]
    }
   ],
   "source": [
    "print(data.head())"
   ]
  },
  {
   "cell_type": "code",
   "execution_count": 5,
   "metadata": {},
   "outputs": [
    {
     "name": "stdout",
     "output_type": "stream",
     "text": [
      "    year  month  day  dep_time  dep_delay  arr_time  arr_delay carrier  \\\n",
      "0   2013      6   30       940         15      1216         -4      VX   \n",
      "1   2013      5    7      1657         -3      2104         10      DL   \n",
      "2   2013     12    8       859         -1      1238         11      DL   \n",
      "3   2013      5   14      1841         -4      2122        -34      DL   \n",
      "4   2013      7   21      1102         -3      1230         -8      9E   \n",
      "5   2013      1    1      1817         -3      2008          3      AA   \n",
      "6   2013     12    9      1259         14      1617         22      WN   \n",
      "7   2013      8   13      1920         85      2032         71      B6   \n",
      "8   2013      9   26       725        -10      1027         -8      AA   \n",
      "9   2013      4   30      1323         62      1549         60      EV   \n",
      "10  2013      6   17       940          5      1050         -4      B6   \n",
      "\n",
      "   tailnum  flight origin dest  air_time  distance  hour  minute  \n",
      "0   N626VA     407    JFK  LAX       313      2475     9      40  \n",
      "1   N3760C     329    JFK  SJU       216      1598    16      57  \n",
      "2   N712TW     422    JFK  LAX       376      2475     8      59  \n",
      "3   N914DL    2391    JFK  TPA       135      1005    18      41  \n",
      "4   N823AY    3652    LGA  ORF        50       296    11       2  \n",
      "5   N3AXAA     353    LGA  ORD       138       733    18      17  \n",
      "6   N218WN    1428    EWR  HOU       240      1411    12      59  \n",
      "7   N284JB    1407    JFK  IAD        48       228    19      20  \n",
      "8   N3FSAA    2279    LGA  MIA       148      1096     7      25  \n",
      "9   N12163    4162    EWR  JAX       110       820    13      23  \n",
      "10  N351JB      20    JFK  ROC        50       264     9      40  \n"
     ]
    }
   ],
   "source": [
    "print(data.head(11))"
   ]
  },
  {
   "cell_type": "markdown",
   "metadata": {},
   "source": [
    "### tail()  function"
   ]
  },
  {
   "cell_type": "code",
   "execution_count": null,
   "metadata": {},
   "outputs": [],
   "source": [
    "1. tail give you last five rows of data\n",
    "2. By defualt it take five rows\n",
    "3. If we want to see specific number of rows, we should pass that number as arguments"
   ]
  },
  {
   "cell_type": "code",
   "execution_count": 9,
   "metadata": {},
   "outputs": [
    {
     "name": "stdout",
     "output_type": "stream",
     "text": [
      "       year  month  day  dep_time  dep_delay  arr_time  arr_delay carrier  \\\n",
      "32730  2013     10    8       752         -8       921        -28      9E   \n",
      "32731  2013      7    7       812         -3      1043          8      DL   \n",
      "32732  2013      9    3      1057         -1      1319        -19      UA   \n",
      "32733  2013     10   15       844         56      1045         60      B6   \n",
      "32734  2013      3   28      1813         -3      1942        -23      UA   \n",
      "\n",
      "      tailnum  flight origin dest  air_time  distance  hour  minute  \n",
      "32730  N8505Q    3611    JFK  PIT        63       340     7      52  \n",
      "32731  N6713Y    1429    JFK  LAS       286      2248     8      12  \n",
      "32732  N77871    1545    EWR  IAH       180      1400    10      57  \n",
      "32733  N258JB    1273    JFK  CHS        93       636     8      44  \n",
      "32734  N36272    1053    EWR  CLE        59       404    18      13  \n"
     ]
    }
   ],
   "source": [
    "print(data.tail())"
   ]
  },
  {
   "cell_type": "code",
   "execution_count": 10,
   "metadata": {},
   "outputs": [
    {
     "name": "stdout",
     "output_type": "stream",
     "text": [
      "       year  month  day  dep_time  dep_delay  arr_time  arr_delay carrier  \\\n",
      "32726  2013      2    4      1558         -2      1854          4      DL   \n",
      "32727  2013     10    3      1716          2      1812        -27      B6   \n",
      "32728  2013      7   13      1923         18      2124         18      9E   \n",
      "32729  2013      1   28       706         36       909         22      EV   \n",
      "32730  2013     10    8       752         -8       921        -28      9E   \n",
      "32731  2013      7    7       812         -3      1043          8      DL   \n",
      "32732  2013      9    3      1057         -1      1319        -19      UA   \n",
      "32733  2013     10   15       844         56      1045         60      B6   \n",
      "32734  2013      3   28      1813         -3      1942        -23      UA   \n",
      "\n",
      "      tailnum  flight origin dest  air_time  distance  hour  minute  \n",
      "32726  N3737C    1331    JFK  DEN       238      1626    15      58  \n",
      "32727  N192JB     918    JFK  BOS        40       187    17      16  \n",
      "32728  N922XJ    3525    JFK  ORD       107       740    19      23  \n",
      "32729  N13914    4419    EWR  IND       105       645     7       6  \n",
      "32730  N8505Q    3611    JFK  PIT        63       340     7      52  \n",
      "32731  N6713Y    1429    JFK  LAS       286      2248     8      12  \n",
      "32732  N77871    1545    EWR  IAH       180      1400    10      57  \n",
      "32733  N258JB    1273    JFK  CHS        93       636     8      44  \n",
      "32734  N36272    1053    EWR  CLE        59       404    18      13  \n"
     ]
    }
   ],
   "source": [
    "print(data.tail(9))"
   ]
  },
  {
   "cell_type": "code",
   "execution_count": null,
   "metadata": {},
   "outputs": [],
   "source": []
  }
 ],
 "metadata": {
  "kernelspec": {
   "display_name": "Python 3",
   "language": "python",
   "name": "python3"
  },
  "language_info": {
   "codemirror_mode": {
    "name": "ipython",
    "version": 3
   },
   "file_extension": ".py",
   "mimetype": "text/x-python",
   "name": "python",
   "nbconvert_exporter": "python",
   "pygments_lexer": "ipython3",
   "version": "3.8.5"
  }
 },
 "nbformat": 4,
 "nbformat_minor": 4
}
