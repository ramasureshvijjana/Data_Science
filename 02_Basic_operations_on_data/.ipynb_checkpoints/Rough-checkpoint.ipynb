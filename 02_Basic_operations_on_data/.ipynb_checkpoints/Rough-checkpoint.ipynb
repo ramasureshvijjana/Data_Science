{
 "cells": [
  {
   "cell_type": "markdown",
   "id": "64e2c81f",
   "metadata": {},
   "source": [
    "### Taking a small part from total data"
   ]
  },
  {
   "cell_type": "code",
   "execution_count": null,
   "id": "719e31ba",
   "metadata": {},
   "outputs": [],
   "source": [
    "# Taking 10 labels of month and day features.\n",
    "\n",
    "lmt_data = data.loc[0:10, ['month', 'day']]\n",
    "print(lmt_data)\n",
    "\n",
    "# Generating day and year data \n",
    "import random\n",
    "\n",
    "year, day = [], []\n",
    "\n",
    "for i in range(0,11):\n",
    "    year.append(random.randint(2000, 2020))\n",
    "    day.append(random.randint(1, 31))\n",
    "    \n",
    "print(year)\n",
    "print(day)\n",
    "\n",
    "lmt_data['year'] = year\n",
    "print(lmt_data)\n",
    "\n",
    "lmt_data['day'] = day\n",
    "print(lmt_data)\n",
    "\n",
    "# Taking 10 labels of month and day features.\n",
    "\n",
    "lmt_data = data.loc[0:10, ['month', 'day']]\n",
    "print(lmt_data)"
   ]
  }
 ],
 "metadata": {
  "kernelspec": {
   "display_name": "Python 3",
   "language": "python",
   "name": "python3"
  },
  "language_info": {
   "codemirror_mode": {
    "name": "ipython",
    "version": 3
   },
   "file_extension": ".py",
   "mimetype": "text/x-python",
   "name": "python",
   "nbconvert_exporter": "python",
   "pygments_lexer": "ipython3",
   "version": "3.8.3"
  }
 },
 "nbformat": 4,
 "nbformat_minor": 5
}
