{
 "cells": [
  {
   "cell_type": "markdown",
   "id": "04ed2bf1-5291-49c0-82dc-6fecfe9573b6",
   "metadata": {},
   "source": [
    "# Groupby Function"
   ]
  },
  {
   "cell_type": "markdown",
   "id": "ea11f7c6-6d4d-4498-a7b3-faec8e00624b",
   "metadata": {},
   "source": [
    "> 1. GroupBy returns a grouped DataFrame.\n",
    "> 2. We can apply two operations on a GroupBy DataFrame:\n",
    ">> 1) Aggregation\n",
    ">> 2) Filtering (using filter() or apply())"
   ]
  },
  {
   "cell_type": "markdown",
   "id": "5ec2dd53-7207-4e0c-a80a-7cd97c2e2274",
   "metadata": {},
   "source": [
    "### 1. Loading and Selecting Data"
   ]
  },
  {
   "cell_type": "code",
   "execution_count": 1,
   "id": "b91cce40-ffb8-4135-83f7-fea47a86baa3",
   "metadata": {},
   "outputs": [
    {
     "data": {
      "text/html": [
       "<div>\n",
       "<style scoped>\n",
       "    .dataframe tbody tr th:only-of-type {\n",
       "        vertical-align: middle;\n",
       "    }\n",
       "\n",
       "    .dataframe tbody tr th {\n",
       "        vertical-align: top;\n",
       "    }\n",
       "\n",
       "    .dataframe thead th {\n",
       "        text-align: right;\n",
       "    }\n",
       "</style>\n",
       "<table border=\"1\" class=\"dataframe\">\n",
       "  <thead>\n",
       "    <tr style=\"text-align: right;\">\n",
       "      <th></th>\n",
       "      <th>Code</th>\n",
       "      <th>Year</th>\n",
       "      <th>Extreme cold</th>\n",
       "      <th>Moderate cold</th>\n",
       "      <th>Moderate heat</th>\n",
       "      <th>Extreme heat</th>\n",
       "    </tr>\n",
       "  </thead>\n",
       "  <tbody>\n",
       "    <tr>\n",
       "      <th>0</th>\n",
       "      <td>AUS</td>\n",
       "      <td>2015</td>\n",
       "      <td>0.67</td>\n",
       "      <td>5.82</td>\n",
       "      <td>0.14</td>\n",
       "      <td>0.32</td>\n",
       "    </tr>\n",
       "    <tr>\n",
       "      <th>1</th>\n",
       "      <td>BRA</td>\n",
       "      <td>2015</td>\n",
       "      <td>0.49</td>\n",
       "      <td>2.34</td>\n",
       "      <td>0.48</td>\n",
       "      <td>0.22</td>\n",
       "    </tr>\n",
       "    <tr>\n",
       "      <th>2</th>\n",
       "      <td>CAN</td>\n",
       "      <td>2015</td>\n",
       "      <td>0.25</td>\n",
       "      <td>4.21</td>\n",
       "      <td>0.27</td>\n",
       "      <td>0.26</td>\n",
       "    </tr>\n",
       "    <tr>\n",
       "      <th>3</th>\n",
       "      <td>CHN</td>\n",
       "      <td>2015</td>\n",
       "      <td>1.06</td>\n",
       "      <td>9.31</td>\n",
       "      <td>0.24</td>\n",
       "      <td>0.40</td>\n",
       "    </tr>\n",
       "    <tr>\n",
       "      <th>4</th>\n",
       "      <td>ITA</td>\n",
       "      <td>2015</td>\n",
       "      <td>0.85</td>\n",
       "      <td>8.51</td>\n",
       "      <td>0.94</td>\n",
       "      <td>0.67</td>\n",
       "    </tr>\n",
       "  </tbody>\n",
       "</table>\n",
       "</div>"
      ],
      "text/plain": [
       "  Code  Year  Extreme cold  Moderate cold  Moderate heat  Extreme heat\n",
       "0  AUS  2015          0.67           5.82           0.14          0.32\n",
       "1  BRA  2015          0.49           2.34           0.48          0.22\n",
       "2  CAN  2015          0.25           4.21           0.27          0.26\n",
       "3  CHN  2015          1.06           9.31           0.24          0.40\n",
       "4  ITA  2015          0.85           8.51           0.94          0.67"
      ]
     },
     "execution_count": 1,
     "metadata": {},
     "output_type": "execute_result"
    }
   ],
   "source": [
    "import pandas as pd\n",
    "\n",
    "data = pd.read_csv('../00_data/deaths-temperature-gasparrini.csv')\n",
    "data = data.iloc[:,1:]\n",
    "data.head()"
   ]
  },
  {
   "cell_type": "markdown",
   "id": "fa3b9eaa-fdce-44ff-a22e-ab6d09b20969",
   "metadata": {},
   "source": [
    "### 2. GroupBy Operation"
   ]
  },
  {
   "cell_type": "code",
   "execution_count": 2,
   "id": "1fae8441-2371-4505-9f18-8e65b271cd8f",
   "metadata": {},
   "outputs": [
    {
     "name": "stdout",
     "output_type": "stream",
     "text": [
      "<pandas.core.groupby.generic.DataFrameGroupBy object at 0x000002576D1B0950>\n"
     ]
    }
   ],
   "source": [
    "grouped_df = data.groupby('Code')\n",
    "print(grouped_df)"
   ]
  },
  {
   "cell_type": "markdown",
   "id": "1ded6528-7bb3-48cd-b93d-5e4da167f350",
   "metadata": {},
   "source": [
    "### 3. Aggregation \n",
    "> -> Aggregation functions also return a DataFrame. We can apply any DataFrame operation on it.  \n",
    "> -> List of function to perform aggregation\n",
    "> 1. sum()\n",
    "> 2. mean()\n",
    "> 3. median()\n",
    "> 4. size()\n",
    "> 5. count()"
   ]
  },
  {
   "cell_type": "code",
   "execution_count": 3,
   "id": "ac58e211-b230-4d72-8642-aef750658710",
   "metadata": {},
   "outputs": [
    {
     "name": "stdout",
     "output_type": "stream",
     "text": [
      "      Year  Extreme cold  Moderate cold  Moderate heat  Extreme heat\n",
      "Code                                                                \n",
      "AUS   2015          0.67           5.82           0.14          0.32\n",
      "BRA   2015          0.49           2.34           0.48          0.22\n",
      "CAN   4030          0.50           8.42           0.54          0.52\n",
      "CHN   4030          2.12          18.62           0.48          0.80\n",
      "ESP   6045          2.13          14.25           1.62          1.56\n",
      "GBR   2015          0.86           7.62           0.07          0.22\n",
      "ITA   4030          1.70          17.02           1.88          1.34\n",
      "JPN   6045          2.31          27.12           0.39          0.54\n",
      "KOR   6045          1.05          19.74           0.30          0.63\n",
      "SWE   6045          0.81          10.32           0.09          0.45\n",
      "THA   4030          0.88           4.34           0.94          0.56\n",
      "TWN   6045          2.13           9.57           1.80          0.75\n",
      "USA   2015          0.45           5.15           0.14          0.21\n"
     ]
    }
   ],
   "source": [
    "print(grouped_df.sum())"
   ]
  },
  {
   "cell_type": "code",
   "execution_count": 4,
   "id": "4df66e8c-95ae-4524-a2c6-9477001d46de",
   "metadata": {},
   "outputs": [
    {
     "name": "stdout",
     "output_type": "stream",
     "text": [
      "        Year  Extreme cold  Moderate cold  Moderate heat  Extreme heat\n",
      "Code                                                                  \n",
      "AUS   2015.0          0.67           5.82           0.14          0.32\n",
      "BRA   2015.0          0.49           2.34           0.48          0.22\n",
      "CAN   2015.0          0.25           4.21           0.27          0.26\n",
      "CHN   2015.0          1.06           9.31           0.24          0.40\n",
      "ESP   2015.0          0.71           4.75           0.54          0.52\n",
      "GBR   2015.0          0.86           7.62           0.07          0.22\n",
      "ITA   2015.0          0.85           8.51           0.94          0.67\n",
      "JPN   2015.0          0.77           9.04           0.13          0.18\n",
      "KOR   2015.0          0.35           6.58           0.10          0.21\n",
      "SWE   2015.0          0.27           3.44           0.03          0.15\n",
      "THA   2015.0          0.44           2.17           0.47          0.28\n",
      "TWN   2015.0          0.71           3.19           0.60          0.25\n",
      "USA   2015.0          0.45           5.15           0.14          0.21\n"
     ]
    }
   ],
   "source": [
    "print(grouped_df.mean())"
   ]
  },
  {
   "cell_type": "code",
   "execution_count": 5,
   "id": "ecf3c98e-0efc-4504-a15a-76a60c94c172",
   "metadata": {},
   "outputs": [
    {
     "name": "stdout",
     "output_type": "stream",
     "text": [
      "        Year  Extreme cold  Moderate cold  Moderate heat  Extreme heat\n",
      "Code                                                                  \n",
      "AUS   2015.0          0.67           5.82           0.14          0.32\n",
      "BRA   2015.0          0.49           2.34           0.48          0.22\n",
      "CAN   2015.0          0.25           4.21           0.27          0.26\n",
      "CHN   2015.0          1.06           9.31           0.24          0.40\n",
      "ESP   2015.0          0.71           4.75           0.54          0.52\n",
      "GBR   2015.0          0.86           7.62           0.07          0.22\n",
      "ITA   2015.0          0.85           8.51           0.94          0.67\n",
      "JPN   2015.0          0.77           9.04           0.13          0.18\n",
      "KOR   2015.0          0.35           6.58           0.10          0.21\n",
      "SWE   2015.0          0.27           3.44           0.03          0.15\n",
      "THA   2015.0          0.44           2.17           0.47          0.28\n",
      "TWN   2015.0          0.71           3.19           0.60          0.25\n",
      "USA   2015.0          0.45           5.15           0.14          0.21\n"
     ]
    }
   ],
   "source": [
    "print(grouped_df.median())"
   ]
  },
  {
   "cell_type": "code",
   "execution_count": 6,
   "id": "4dd76c74-82b3-444d-9e79-ff87e5c6c03b",
   "metadata": {},
   "outputs": [
    {
     "name": "stdout",
     "output_type": "stream",
     "text": [
      "Code\n",
      "AUS    1\n",
      "BRA    1\n",
      "CAN    2\n",
      "CHN    2\n",
      "ESP    3\n",
      "GBR    1\n",
      "ITA    2\n",
      "JPN    3\n",
      "KOR    3\n",
      "SWE    3\n",
      "THA    2\n",
      "TWN    3\n",
      "USA    1\n",
      "dtype: int64\n"
     ]
    }
   ],
   "source": [
    "print(grouped_df.size())"
   ]
  },
  {
   "cell_type": "code",
   "execution_count": 7,
   "id": "c1eb588b-c04c-4755-b3fa-23e23d797e68",
   "metadata": {},
   "outputs": [
    {
     "name": "stdout",
     "output_type": "stream",
     "text": [
      "      Year  Extreme cold  Moderate cold  Moderate heat  Extreme heat\n",
      "Code                                                                \n",
      "AUS      1             1              1              1             1\n",
      "BRA      1             1              1              1             1\n",
      "CAN      2             2              2              2             2\n",
      "CHN      2             2              2              2             2\n",
      "ESP      3             3              3              3             3\n",
      "GBR      1             1              1              1             1\n",
      "ITA      2             2              2              2             2\n",
      "JPN      3             3              3              3             3\n",
      "KOR      3             3              3              3             3\n",
      "SWE      3             3              3              3             3\n",
      "THA      2             2              2              2             2\n",
      "TWN      3             3              3              3             3\n",
      "USA      1             1              1              1             1\n"
     ]
    }
   ],
   "source": [
    "print(grouped_df.count())"
   ]
  },
  {
   "cell_type": "markdown",
   "id": "da5c36a3-1460-4ece-8b6b-a6e97339be56",
   "metadata": {},
   "source": [
    "### 3.1. Aggregation Dataframe Operations:"
   ]
  },
  {
   "cell_type": "code",
   "execution_count": 8,
   "id": "a8f40d9f-f144-467f-8d47-110f89ef4d1f",
   "metadata": {},
   "outputs": [
    {
     "name": "stdout",
     "output_type": "stream",
     "text": [
      "Code\n",
      "AUS     5.82\n",
      "BRA     2.34\n",
      "CAN     8.42\n",
      "CHN    18.62\n",
      "ESP    14.25\n",
      "GBR     7.62\n",
      "ITA    17.02\n",
      "JPN    27.12\n",
      "KOR    19.74\n",
      "SWE    10.32\n",
      "THA     4.34\n",
      "TWN     9.57\n",
      "USA     5.15\n",
      "Name: Moderate cold, dtype: float64\n"
     ]
    }
   ],
   "source": [
    "grouped_sum_df = grouped_df.sum()\n",
    "print(grouped_sum_df['Moderate cold'])"
   ]
  },
  {
   "cell_type": "code",
   "execution_count": 9,
   "id": "3032afcc-7bc1-44a4-b5b5-71c3d0c82c6b",
   "metadata": {},
   "outputs": [
    {
     "name": "stdout",
     "output_type": "stream",
     "text": [
      "      Year  Extreme cold  Moderate cold  Moderate heat  Extreme heat\n",
      "Code                                                                \n",
      "AUS   2015          0.67           5.82           0.14          0.32\n",
      "CAN   4030          0.50           8.42           0.54          0.52\n",
      "CHN   4030          2.12          18.62           0.48          0.80\n",
      "ESP   6045          2.13          14.25           1.62          1.56\n",
      "GBR   2015          0.86           7.62           0.07          0.22\n",
      "ITA   4030          1.70          17.02           1.88          1.34\n",
      "JPN   6045          2.31          27.12           0.39          0.54\n",
      "KOR   6045          1.05          19.74           0.30          0.63\n",
      "SWE   6045          0.81          10.32           0.09          0.45\n",
      "TWN   6045          2.13           9.57           1.80          0.75\n",
      "USA   2015          0.45           5.15           0.14          0.21\n"
     ]
    }
   ],
   "source": [
    "data2 = grouped_sum_df[grouped_sum_df['Moderate cold'] > 5]\n",
    "print(data2)"
   ]
  },
  {
   "cell_type": "markdown",
   "id": "1c33225a-c64c-4230-beda-e13250106d67",
   "metadata": {},
   "source": [
    "### 4. Filtering the Grouped DataFrame:"
   ]
  },
  {
   "cell_type": "code",
   "execution_count": 10,
   "id": "e9f91091-c476-47ba-88fd-a6103c17ff3c",
   "metadata": {},
   "outputs": [
    {
     "name": "stdout",
     "output_type": "stream",
     "text": [
      "4     0.94\n",
      "7     0.54\n",
      "9     0.60\n",
      "10    0.47\n",
      "15    0.54\n",
      "17    0.60\n",
      "20    0.94\n",
      "23    0.54\n",
      "25    0.60\n",
      "26    0.47\n",
      "Name: Moderate heat, dtype: float64\n"
     ]
    }
   ],
   "source": [
    "print(grouped_df.filter(lambda x: x['Moderate heat'].sum() > .9)['Moderate heat'])\n"
   ]
  }
 ],
 "metadata": {
  "kernelspec": {
   "display_name": "Python 3 (ipykernel)",
   "language": "python",
   "name": "python3"
  },
  "language_info": {
   "codemirror_mode": {
    "name": "ipython",
    "version": 3
   },
   "file_extension": ".py",
   "mimetype": "text/x-python",
   "name": "python",
   "nbconvert_exporter": "python",
   "pygments_lexer": "ipython3",
   "version": "3.11.7"
  }
 },
 "nbformat": 4,
 "nbformat_minor": 5
}
