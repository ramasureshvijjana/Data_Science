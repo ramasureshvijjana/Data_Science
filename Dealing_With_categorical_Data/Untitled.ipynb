{
 "cells": [
  {
   "cell_type": "code",
   "execution_count": null,
   "id": "f07388fb",
   "metadata": {},
   "outputs": [],
   "source": [
    "Helmert Encoding is a third commonly used type of categorical encoding for regression along with OHE and Sum Encoding.\n",
    "\n",
    "It compares each level of a categorical variable to the mean of the subsequent levels.\n",
    "\n",
    "This type of encoding can be useful in certain situations where levels of the categorical variable are ordered. (not this dataset)\n",
    "\n",
    "If you use Category-Encoders it will look like this code below."
   ]
  },
  {
   "cell_type": "code",
   "execution_count": null,
   "id": "6a951157",
   "metadata": {},
   "outputs": [],
   "source": [
    "# %%time\n",
    "# this method didn't work because of RAM memory. \n",
    "# HE_encoder = HelmertEncoder(feature_list)\n",
    "# train_he = HE_encoder.fit_transform(train[feature_list], target)\n",
    "# test_he = HE_encoder.transform(test[feature_list])"
   ]
  }
 ],
 "metadata": {
  "kernelspec": {
   "display_name": "Python 3",
   "language": "python",
   "name": "python3"
  },
  "language_info": {
   "codemirror_mode": {
    "name": "ipython",
    "version": 3
   },
   "file_extension": ".py",
   "mimetype": "text/x-python",
   "name": "python",
   "nbconvert_exporter": "python",
   "pygments_lexer": "ipython3",
   "version": "3.8.3"
  }
 },
 "nbformat": 4,
 "nbformat_minor": 5
}
