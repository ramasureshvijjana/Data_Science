{
 "cells": [
  {
   "cell_type": "markdown",
   "metadata": {},
   "source": [
    "## Loading csv file"
   ]
  },
  {
   "cell_type": "code",
   "execution_count": null,
   "metadata": {},
   "outputs": [],
   "source": [
    "1.csv is nothing but formate of the file (.csv)"
   ]
  },
  {
   "cell_type": "code",
   "execution_count": 14,
   "metadata": {},
   "outputs": [
    {
     "name": "stdout",
     "output_type": "stream",
     "text": [
      "       year  month  day  dep_time  dep_delay  arr_time  arr_delay carrier  \\\n",
      "0      2013      6   30       940         15      1216         -4      VX   \n",
      "1      2013      5    7      1657         -3      2104         10      DL   \n",
      "2      2013     12    8       859         -1      1238         11      DL   \n",
      "3      2013      5   14      1841         -4      2122        -34      DL   \n",
      "4      2013      7   21      1102         -3      1230         -8      9E   \n",
      "...     ...    ...  ...       ...        ...       ...        ...     ...   \n",
      "32730  2013     10    8       752         -8       921        -28      9E   \n",
      "32731  2013      7    7       812         -3      1043          8      DL   \n",
      "32732  2013      9    3      1057         -1      1319        -19      UA   \n",
      "32733  2013     10   15       844         56      1045         60      B6   \n",
      "32734  2013      3   28      1813         -3      1942        -23      UA   \n",
      "\n",
      "      tailnum  flight origin dest  air_time  distance  hour  minute  \n",
      "0      N626VA     407    JFK  LAX       313      2475     9      40  \n",
      "1      N3760C     329    JFK  SJU       216      1598    16      57  \n",
      "2      N712TW     422    JFK  LAX       376      2475     8      59  \n",
      "3      N914DL    2391    JFK  TPA       135      1005    18      41  \n",
      "4      N823AY    3652    LGA  ORF        50       296    11       2  \n",
      "...       ...     ...    ...  ...       ...       ...   ...     ...  \n",
      "32730  N8505Q    3611    JFK  PIT        63       340     7      52  \n",
      "32731  N6713Y    1429    JFK  LAS       286      2248     8      12  \n",
      "32732  N77871    1545    EWR  IAH       180      1400    10      57  \n",
      "32733  N258JB    1273    JFK  CHS        93       636     8      44  \n",
      "32734  N36272    1053    EWR  CLE        59       404    18      13  \n",
      "\n",
      "[32735 rows x 16 columns]\n"
     ]
    }
   ],
   "source": [
    "import pandas as pd\n",
    "\n",
    "data = pd.read_csv('D:/Data_Science/data/nyc_flights.csv')\n",
    "print(data)"
   ]
  }
 ],
 "metadata": {
  "kernelspec": {
   "display_name": "Python 3",
   "language": "python",
   "name": "python3"
  },
  "language_info": {
   "codemirror_mode": {
    "name": "ipython",
    "version": 3
   },
   "file_extension": ".py",
   "mimetype": "text/x-python",
   "name": "python",
   "nbconvert_exporter": "python",
   "pygments_lexer": "ipython3",
   "version": "3.8.5"
  }
 },
 "nbformat": 4,
 "nbformat_minor": 4
}
